{
 "cells": [
  {
   "metadata": {},
   "cell_type": "markdown",
   "source": "## Numpy 기초",
   "id": "b8cb5a5bf48573d1"
  },
  {
   "cell_type": "code",
   "id": "initial_id",
   "metadata": {
    "collapsed": true,
    "ExecuteTime": {
     "end_time": "2025-01-10T02:25:51.282589Z",
     "start_time": "2025-01-10T02:25:50.569034Z"
    }
   },
   "source": [
    "import numpy as np\n",
    "\n",
    "arr1 = np.array([1, 2, 3])\n",
    "\n",
    "arr2 = np.array([[1, 2, 3],\n",
    "                 [4, 5, 6]])\n",
    "\n",
    "print(\"1차원\",arr1)\n",
    "print(\"2차원\", arr2)"
   ],
   "outputs": [
    {
     "name": "stdout",
     "output_type": "stream",
     "text": [
      "1차원 [1 2 3]\n",
      "2차원 [[1 2 3]\n",
      " [4 5 6]]\n"
     ]
    }
   ],
   "execution_count": 2
  },
  {
   "metadata": {
    "ExecuteTime": {
     "end_time": "2025-01-09T07:34:36.837750Z",
     "start_time": "2025-01-09T07:34:36.832529Z"
    }
   },
   "cell_type": "code",
   "source": [
    "list1 = [1, 2, 3]\n",
    "print(\"list type\", type(list1))\n",
    "array1 = np.array(list1)\n",
    "print(\"array type\", type(array1))\n",
    "print(\"array shape\", array1.shape)\n",
    "\n",
    "array2 = np.array([[1,2,3],\n",
    "                   [4,5,6]])\n",
    "print(\"array type\", type(array2))\n",
    "print(\"array shape\", array2.shape)\n",
    "\n",
    "array3 = np.array([[1,2,3]])\n",
    "print(\"array type\", type(array3))\n",
    "print(\"array shape\", array3.shape)"
   ],
   "id": "3dfd69955f312e8b",
   "outputs": [
    {
     "name": "stdout",
     "output_type": "stream",
     "text": [
      "list type <class 'list'>\n",
      "array type <class 'numpy.ndarray'>\n",
      "array shape (3,)\n",
      "array type <class 'numpy.ndarray'>\n",
      "array shape (2, 3)\n",
      "array type <class 'numpy.ndarray'>\n",
      "array shape (1, 3)\n"
     ]
    }
   ],
   "execution_count": 3
  },
  {
   "metadata": {},
   "cell_type": "markdown",
   "source": "## ndarray의 데이터 타입",
   "id": "ada5394b1b5529c3"
  },
  {
   "metadata": {
    "ExecuteTime": {
     "end_time": "2025-01-09T07:36:08.755017Z",
     "start_time": "2025-01-09T07:36:08.750729Z"
    }
   },
   "cell_type": "code",
   "source": [
    "list1 = [1,2,3]\n",
    "print(type(list1))\n",
    "array1 = np.array(list1)\n",
    "print(type(array1))\n",
    "print(array1 , array1.dtype)"
   ],
   "id": "c455b9513b0afa55",
   "outputs": [
    {
     "name": "stdout",
     "output_type": "stream",
     "text": [
      "<class 'list'>\n",
      "<class 'numpy.ndarray'>\n",
      "[1 2 3] int32\n"
     ]
    }
   ],
   "execution_count": 4
  },
  {
   "metadata": {
    "ExecuteTime": {
     "end_time": "2025-01-09T07:36:30.213238Z",
     "start_time": "2025-01-09T07:36:30.208312Z"
    }
   },
   "cell_type": "code",
   "source": [
    "list2 = [1, 2, 'test']\n",
    "print(type(list2))\n",
    "array2 = np.array(list2)\n",
    "print(type(array2))\n",
    "print(array2 , array2.dtype)"
   ],
   "id": "c68b6f3194411944",
   "outputs": [
    {
     "name": "stdout",
     "output_type": "stream",
     "text": [
      "<class 'list'>\n",
      "<class 'numpy.ndarray'>\n",
      "['1' '2' 'test'] <U11\n"
     ]
    }
   ],
   "execution_count": 5
  },
  {
   "metadata": {
    "ExecuteTime": {
     "end_time": "2025-01-09T07:41:06.974260Z",
     "start_time": "2025-01-09T07:41:06.970005Z"
    }
   },
   "cell_type": "code",
   "source": [
    "array_int = np.array([1, 2, 3])\n",
    "array_float = array_int.astype(float)\n",
    "print(\"array_float: \", array_float, array_float.dtype)"
   ],
   "id": "2da193afe908f016",
   "outputs": [
    {
     "name": "stdout",
     "output_type": "stream",
     "text": [
      "array_float:  [1. 2. 3.] float64\n"
     ]
    }
   ],
   "execution_count": 8
  },
  {
   "metadata": {
    "ExecuteTime": {
     "end_time": "2025-01-09T07:41:40.752785Z",
     "start_time": "2025-01-09T07:41:40.748345Z"
    }
   },
   "cell_type": "code",
   "source": [
    "array_int = array_float.astype(int)\n",
    "print(\"array_int: \", array_int, array_int.dtype)"
   ],
   "id": "fd20b78508b5bbad",
   "outputs": [
    {
     "name": "stdout",
     "output_type": "stream",
     "text": [
      "array_int:  [1 2 3] int32\n"
     ]
    }
   ],
   "execution_count": 10
  },
  {
   "metadata": {},
   "cell_type": "markdown",
   "source": "## ndarray를 편하게 생성하기 - arange, zeros, ones",
   "id": "edb76b67a3004c76"
  },
  {
   "metadata": {
    "ExecuteTime": {
     "end_time": "2025-01-09T07:59:41.166907Z",
     "start_time": "2025-01-09T07:59:41.162049Z"
    }
   },
   "cell_type": "code",
   "source": [
    "sequence_array = np.arange(10)\n",
    "print(\"sequence_array: \", sequence_array)\n",
    "print(sequence_array.dtype, sequence_array.shape)"
   ],
   "id": "62631fed995fe3d2",
   "outputs": [
    {
     "name": "stdout",
     "output_type": "stream",
     "text": [
      "sequence_array:  [0 1 2 3 4 5 6 7 8 9]\n",
      "int32 (10,)\n"
     ]
    }
   ],
   "execution_count": 11
  },
  {
   "metadata": {
    "ExecuteTime": {
     "end_time": "2025-01-09T08:01:55.350287Z",
     "start_time": "2025-01-09T08:01:55.345803Z"
    }
   },
   "cell_type": "code",
   "source": [
    "#(3, 2) shape을 가지는 모든 원소가 0, dtype은 int32 인 ndarray 생성\n",
    "zeros_arr = np.zeros((3,2), dtype='int32')\n",
    "print(zeros_arr)\n",
    "print(zeros_arr.dtype, zeros_arr.shape)"
   ],
   "id": "bf497bf3516e66e7",
   "outputs": [
    {
     "name": "stdout",
     "output_type": "stream",
     "text": [
      "[[0 0]\n",
      " [0 0]\n",
      " [0 0]]\n",
      "int32 (3, 2)\n"
     ]
    }
   ],
   "execution_count": 13
  },
  {
   "metadata": {
    "ExecuteTime": {
     "end_time": "2025-01-09T08:02:35.585289Z",
     "start_time": "2025-01-09T08:02:35.580285Z"
    }
   },
   "cell_type": "code",
   "source": [
    "# (3, 2) shape을 가지는 모든 원소가 1인 ndarray 생성\n",
    "ones_arr = np.ones((3,2))\n",
    "print(ones_arr)\n",
    "print(ones_arr.dtype, ones_arr.shape)"
   ],
   "id": "4a0d0370c11f208d",
   "outputs": [
    {
     "name": "stdout",
     "output_type": "stream",
     "text": [
      "[[1. 1.]\n",
      " [1. 1.]\n",
      " [1. 1.]]\n",
      "float64 (3, 2)\n"
     ]
    }
   ],
   "execution_count": 14
  },
  {
   "metadata": {},
   "cell_type": "markdown",
   "source": "## ndarray의 차원과 크기를 변경하는 reshape",
   "id": "29657521db86eb36"
  },
  {
   "metadata": {
    "ExecuteTime": {
     "end_time": "2025-01-09T08:04:31.379889Z",
     "start_time": "2025-01-09T08:04:31.375501Z"
    }
   },
   "cell_type": "code",
   "source": [
    "array1 = np.arange(10)\n",
    "print(array1)\n",
    "\n",
    "# (2, 5) shape으로 변환\n",
    "array2 = array1.reshape(2,5)\n",
    "print(array2)\n",
    "\n",
    "# (5, 2) shape으로 변환\n",
    "array3 = array1.reshape(5,2)\n",
    "print(array3)"
   ],
   "id": "64d22e1fa2e817f1",
   "outputs": [
    {
     "name": "stdout",
     "output_type": "stream",
     "text": [
      "[0 1 2 3 4 5 6 7 8 9]\n",
      "[[0 1 2 3 4]\n",
      " [5 6 7 8 9]]\n",
      "[[0 1]\n",
      " [2 3]\n",
      " [4 5]\n",
      " [6 7]\n",
      " [8 9]]\n"
     ]
    }
   ],
   "execution_count": 15
  },
  {
   "metadata": {
    "ExecuteTime": {
     "end_time": "2025-01-09T08:07:56.594685Z",
     "start_time": "2025-01-09T08:07:56.589755Z"
    }
   },
   "cell_type": "code",
   "source": [
    "array1 = np.arange(10)\n",
    "print(array1)\n",
    "\n",
    "array2 = array1.reshape(-1, 5)\n",
    "print(array2)\n",
    "\n",
    "array3 = array1.reshape(5, -1)\n",
    "print(array3)"
   ],
   "id": "15240778a8c3e453",
   "outputs": [
    {
     "name": "stdout",
     "output_type": "stream",
     "text": [
      "[0 1 2 3 4 5 6 7 8 9]\n",
      "[[0 1 2 3 4]\n",
      " [5 6 7 8 9]]\n",
      "[[0 1]\n",
      " [2 3]\n",
      " [4 5]\n",
      " [6 7]\n",
      " [8 9]]\n"
     ]
    }
   ],
   "execution_count": 17
  },
  {
   "metadata": {},
   "cell_type": "markdown",
   "source": "## numpy ndarray의 데이터 세트 선택하기 - indexing",
   "id": "52270d8f4da300ad"
  },
  {
   "metadata": {
    "ExecuteTime": {
     "end_time": "2025-01-10T02:25:53.814675Z",
     "start_time": "2025-01-10T02:25:53.808159Z"
    }
   },
   "cell_type": "code",
   "source": [
    "# 1에서 부터 9까지의 1차원 ndarray생성\n",
    "array1 = np.arange(start=1, stop=10)\n",
    "print(array1)\n",
    "\n",
    "# index 0 ~ array1[2]는 3번째 index 위치의 데이터 값을 의미\n",
    "value = array1[2]\n",
    "print(value)\n",
    "print(type(value))"
   ],
   "id": "5cea61837463f1da",
   "outputs": [
    {
     "name": "stdout",
     "output_type": "stream",
     "text": [
      "[1 2 3 4 5 6 7 8 9]\n",
      "3\n",
      "<class 'numpy.int32'>\n"
     ]
    }
   ],
   "execution_count": 3
  },
  {
   "metadata": {
    "ExecuteTime": {
     "end_time": "2025-01-10T02:26:44.478550Z",
     "start_time": "2025-01-10T02:26:44.474016Z"
    }
   },
   "cell_type": "code",
   "source": "print(\"맨 뒤의 값\", array1[-1], \"맨 뒤의 두번째 값\", array1[-2])",
   "id": "54d3b398a10d91cc",
   "outputs": [
    {
     "name": "stdout",
     "output_type": "stream",
     "text": [
      "맨 뒤의 값 9 맨 뒤의 두번째 값 8\n"
     ]
    }
   ],
   "execution_count": 4
  },
  {
   "metadata": {
    "ExecuteTime": {
     "end_time": "2025-01-10T02:27:10.270952Z",
     "start_time": "2025-01-10T02:27:10.266040Z"
    }
   },
   "cell_type": "code",
   "source": [
    "array1[0] = 9\n",
    "array1[8] = 0\n",
    "print(array1)"
   ],
   "id": "b033e1574eef8a97",
   "outputs": [
    {
     "name": "stdout",
     "output_type": "stream",
     "text": [
      "[9 2 3 4 5 6 7 8 0]\n"
     ]
    }
   ],
   "execution_count": 5
  },
  {
   "metadata": {
    "ExecuteTime": {
     "end_time": "2025-01-10T02:29:50.361869Z",
     "start_time": "2025-01-10T02:29:50.357007Z"
    }
   },
   "cell_type": "code",
   "source": [
    "array1d = np.arange(start = 1, stop=10)\n",
    "array2d = array1d.reshape(3, 3)\n",
    "print(array2d)\n",
    "\n",
    "print('(row=0, col=0) index 가리키는 값: ', array2d[0,0])\n",
    "print('(row=0, col=1) index 가리키는 값: ', array2d[0,1])\n",
    "print('(row=1, col=0) index 가리키는 값: ', array2d[1,0])\n",
    "print('(row=2, col=2) index 가리키는 값: ', array2d[2,2])"
   ],
   "id": "50ee9fb73e65a35",
   "outputs": [
    {
     "name": "stdout",
     "output_type": "stream",
     "text": [
      "[[1 2 3]\n",
      " [4 5 6]\n",
      " [7 8 9]]\n",
      "(row=0, col=0) index 가리키는 값:  1\n",
      "(row=0, col=1) index 가리키는 값:  2\n",
      "(row=1, col=0) index 가리키는 값:  4\n",
      "(row=2, col=2) index 가리키는 값:  9\n"
     ]
    }
   ],
   "execution_count": 6
  },
  {
   "metadata": {
    "ExecuteTime": {
     "end_time": "2025-01-10T02:36:46.286715Z",
     "start_time": "2025-01-10T02:36:46.281891Z"
    }
   },
   "cell_type": "code",
   "source": [
    "array1 = np.arange(start=1, stop=10)\n",
    "print('array1: ', array1)\n",
    "array3 = array1[0:3]\n",
    "print('array3', array3)\n",
    "print(type(array3))\n",
    "print(array3.shape)"
   ],
   "id": "a321af75798fe99f",
   "outputs": [
    {
     "name": "stdout",
     "output_type": "stream",
     "text": [
      "array1:  [1 2 3 4 5 6 7 8 9]\n",
      "array3 [1 2 3]\n",
      "<class 'numpy.ndarray'>\n",
      "(3,)\n"
     ]
    }
   ],
   "execution_count": 8
  },
  {
   "metadata": {
    "ExecuteTime": {
     "end_time": "2025-01-10T02:38:39.096831Z",
     "start_time": "2025-01-10T02:38:39.091498Z"
    }
   },
   "cell_type": "code",
   "source": [
    "array1 = np.arange(start=1, stop=10)\n",
    "# 0-2(2포함)까지 추출\n",
    "array4 = array1[:3]\n",
    "print('array4', array4)\n",
    "\n",
    "# 위치 인덱스 3부터 마지막 추출\n",
    "array5 = array1[3:]\n",
    "print('array5', array5)\n",
    "\n",
    "# 위치 인덱스 전체 추출\n",
    "array6 = array1[:]\n",
    "print('array6', array6)"
   ],
   "id": "eb0a4bc2a0ac735a",
   "outputs": [
    {
     "name": "stdout",
     "output_type": "stream",
     "text": [
      "array4 [1 2 3]\n",
      "array5 [4 5 6 7 8 9]\n",
      "array6 [1 2 3 4 5 6 7 8 9]\n"
     ]
    }
   ],
   "execution_count": 12
  },
  {
   "metadata": {
    "ExecuteTime": {
     "end_time": "2025-01-10T02:41:44.646279Z",
     "start_time": "2025-01-10T02:41:44.639344Z"
    }
   },
   "cell_type": "code",
   "source": [
    "# 펜시 인덱싱\n",
    "array1d = np.arange(start=1, stop=10)\n",
    "array2d = array1d.reshape(3, 3)\n",
    "print(array2d)\n",
    "\n",
    "array3 = array2d[[0,1], 2]\n",
    "print('array3', array3.tolist())\n",
    "\n",
    "array4 = array2d[[0,1], 0:2]\n",
    "print('array4', array4.tolist())\n",
    "\n",
    "array5 = array2d[[0,1]]\n",
    "print('array5', array5.tolist())"
   ],
   "id": "2f0fa79e09566d62",
   "outputs": [
    {
     "name": "stdout",
     "output_type": "stream",
     "text": [
      "[[1 2 3]\n",
      " [4 5 6]\n",
      " [7 8 9]]\n",
      "array3 [3, 6]\n",
      "array4 [[1, 2], [4, 5]]\n",
      "array5 [[1, 2, 3], [4, 5, 6]]\n"
     ]
    }
   ],
   "execution_count": 18
  },
  {
   "metadata": {
    "ExecuteTime": {
     "end_time": "2025-01-10T02:43:38.471347Z",
     "start_time": "2025-01-10T02:43:38.465830Z"
    }
   },
   "cell_type": "code",
   "source": [
    "#불린 인덱싱\n",
    "array1d = np.arange(start=1, stop=10)\n",
    "print(array1d)\n",
    "# [] 안에 array1d > 5 boolean indexing을 적용\n",
    "array3 = array1d[array1d > 5]\n",
    "print('불린 인덱스값', array3)"
   ],
   "id": "e7bdfe4a28d3495c",
   "outputs": [
    {
     "name": "stdout",
     "output_type": "stream",
     "text": [
      "[1 2 3 4 5 6 7 8 9]\n",
      "불린 인덱스값 [6 7 8 9]\n"
     ]
    }
   ],
   "execution_count": 19
  },
  {
   "metadata": {},
   "cell_type": "markdown",
   "source": "## 행렬의 정렬 - sort() 와 argsort()",
   "id": "969efd96411e35c6"
  },
  {
   "metadata": {
    "ExecuteTime": {
     "end_time": "2025-01-10T03:18:48.816660Z",
     "start_time": "2025-01-10T03:18:48.803617Z"
    }
   },
   "cell_type": "code",
   "source": [
    "org_array = np.array([3, 1, 9, 5])\n",
    "print(\"원본 행렬\", org_array)\n",
    "\n",
    "# np.sort()\n",
    "sort_array1 = np.sort(org_array)\n",
    "print('np.sort() 호출 후 반환된 정렬', sort_array1)\n",
    "print('np.sort() 호출 후 원본 배열', org_array)\n",
    "\n",
    "# ndarray.sort()\n",
    "sort_array2 = org_array.sort()\n",
    "print('org_array.sort() 호출 후 반환된 배열', sort_array2)\n",
    "print('원본 배열', org_array)"
   ],
   "id": "447718cc04aeb753",
   "outputs": [
    {
     "name": "stdout",
     "output_type": "stream",
     "text": [
      "원본 행렬 [3 1 9 5]\n",
      "np.sort() 호출 후 반환된 정렬 [1 3 5 9]\n",
      "np.sort() 호출 후 원본 배열 [3 1 9 5]\n",
      "org_array.sort() 호출 후 반환된 배열 None\n",
      "원본 배열 [1 3 5 9]\n"
     ]
    }
   ],
   "execution_count": 20
  },
  {
   "metadata": {
    "ExecuteTime": {
     "end_time": "2025-01-10T03:35:52.474354Z",
     "start_time": "2025-01-10T03:35:52.466840Z"
    }
   },
   "cell_type": "code",
   "source": [
    "sort_array1_desc = np.sort(org_array)[::-1]\n",
    "print(\"내림차순으로 정렬\", sort_array1_desc)\n",
    "\n",
    "org_array = np.array([3, 1, 9, 5])\n",
    "sort_indices = np.argsort(org_array)\n",
    "print(sort_indices) # 행렬 정렬시 배열의 인덱스값 추출"
   ],
   "id": "9f56084a43274b67",
   "outputs": [
    {
     "name": "stdout",
     "output_type": "stream",
     "text": [
      "내림차순으로 정렬 [9 5 3 1]\n",
      "[1 0 3 2]\n"
     ]
    }
   ],
   "execution_count": 22
  },
  {
   "metadata": {
    "ExecuteTime": {
     "end_time": "2025-01-10T03:40:26.507866Z",
     "start_time": "2025-01-10T03:40:26.501806Z"
    }
   },
   "cell_type": "code",
   "source": [
    "name_array = np.array(['john', 'Mike', 'Sarah', 'Kate', 'Samuel'])\n",
    "score_array = np.array([78, 95, 84, 98, 88])\n",
    "\n",
    "sort_indices_asc = np.argsort(score_array)\n",
    "print(\"성적 오름차순 성적 인덱스\", sort_indices_asc)\n",
    "print(\"성적 오름차순 이름 출력\", name_array[sort_indices_asc])"
   ],
   "id": "886d823e80346469",
   "outputs": [
    {
     "name": "stdout",
     "output_type": "stream",
     "text": [
      "성적 오름차순 성적 인덱스 [0 2 4 1 3]\n",
      "성적 오름차순 이름 출력 ['john' 'Sarah' 'Samuel' 'Mike' 'Kate']\n"
     ]
    }
   ],
   "execution_count": 26
  }
 ],
 "metadata": {
  "kernelspec": {
   "display_name": "Python 3",
   "language": "python",
   "name": "python3"
  },
  "language_info": {
   "codemirror_mode": {
    "name": "ipython",
    "version": 2
   },
   "file_extension": ".py",
   "mimetype": "text/x-python",
   "name": "python",
   "nbconvert_exporter": "python",
   "pygments_lexer": "ipython2",
   "version": "2.7.6"
  }
 },
 "nbformat": 4,
 "nbformat_minor": 5
}
