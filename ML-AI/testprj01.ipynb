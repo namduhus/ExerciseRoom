{
 "cells": [
  {
   "metadata": {},
   "cell_type": "markdown",
   "source": "## Numpy 기초",
   "id": "b8cb5a5bf48573d1"
  },
  {
   "cell_type": "code",
   "id": "initial_id",
   "metadata": {
    "collapsed": true,
    "ExecuteTime": {
     "end_time": "2025-01-09T07:15:53.475048Z",
     "start_time": "2025-01-09T07:15:53.470046Z"
    }
   },
   "source": [
    "import numpy as np\n",
    "\n",
    "arr1 = np.array([1, 2, 3])\n",
    "\n",
    "arr2 = np.array([[1, 2, 3],\n",
    "                 [4, 5, 6]])\n",
    "\n",
    "print(\"1차원\",arr1)\n",
    "print(\"2차원\", arr2)"
   ],
   "outputs": [
    {
     "name": "stdout",
     "output_type": "stream",
     "text": [
      "1차원 [1 2 3]\n",
      "2차원 [[1 2 3]\n",
      " [4 5 6]]\n"
     ]
    }
   ],
   "execution_count": 2
  },
  {
   "metadata": {
    "ExecuteTime": {
     "end_time": "2025-01-09T07:34:36.837750Z",
     "start_time": "2025-01-09T07:34:36.832529Z"
    }
   },
   "cell_type": "code",
   "source": [
    "list1 = [1, 2, 3]\n",
    "print(\"list type\", type(list1))\n",
    "array1 = np.array(list1)\n",
    "print(\"array type\", type(array1))\n",
    "print(\"array shape\", array1.shape)\n",
    "\n",
    "array2 = np.array([[1,2,3],\n",
    "                   [4,5,6]])\n",
    "print(\"array type\", type(array2))\n",
    "print(\"array shape\", array2.shape)\n",
    "\n",
    "array3 = np.array([[1,2,3]])\n",
    "print(\"array type\", type(array3))\n",
    "print(\"array shape\", array3.shape)"
   ],
   "id": "3dfd69955f312e8b",
   "outputs": [
    {
     "name": "stdout",
     "output_type": "stream",
     "text": [
      "list type <class 'list'>\n",
      "array type <class 'numpy.ndarray'>\n",
      "array shape (3,)\n",
      "array type <class 'numpy.ndarray'>\n",
      "array shape (2, 3)\n",
      "array type <class 'numpy.ndarray'>\n",
      "array shape (1, 3)\n"
     ]
    }
   ],
   "execution_count": 3
  },
  {
   "metadata": {},
   "cell_type": "markdown",
   "source": "## ndarray의 데이터 타입",
   "id": "ada5394b1b5529c3"
  },
  {
   "metadata": {
    "ExecuteTime": {
     "end_time": "2025-01-09T07:36:08.755017Z",
     "start_time": "2025-01-09T07:36:08.750729Z"
    }
   },
   "cell_type": "code",
   "source": [
    "list1 = [1,2,3]\n",
    "print(type(list1))\n",
    "array1 = np.array(list1)\n",
    "print(type(array1))\n",
    "print(array1 , array1.dtype)"
   ],
   "id": "c455b9513b0afa55",
   "outputs": [
    {
     "name": "stdout",
     "output_type": "stream",
     "text": [
      "<class 'list'>\n",
      "<class 'numpy.ndarray'>\n",
      "[1 2 3] int32\n"
     ]
    }
   ],
   "execution_count": 4
  },
  {
   "metadata": {
    "ExecuteTime": {
     "end_time": "2025-01-09T07:36:30.213238Z",
     "start_time": "2025-01-09T07:36:30.208312Z"
    }
   },
   "cell_type": "code",
   "source": [
    "list2 = [1, 2, 'test']\n",
    "print(type(list2))\n",
    "array2 = np.array(list2)\n",
    "print(type(array2))\n",
    "print(array2 , array2.dtype)"
   ],
   "id": "c68b6f3194411944",
   "outputs": [
    {
     "name": "stdout",
     "output_type": "stream",
     "text": [
      "<class 'list'>\n",
      "<class 'numpy.ndarray'>\n",
      "['1' '2' 'test'] <U11\n"
     ]
    }
   ],
   "execution_count": 5
  },
  {
   "metadata": {
    "ExecuteTime": {
     "end_time": "2025-01-09T07:41:06.974260Z",
     "start_time": "2025-01-09T07:41:06.970005Z"
    }
   },
   "cell_type": "code",
   "source": [
    "array_int = np.array([1, 2, 3])\n",
    "array_float = array_int.astype(float)\n",
    "print(\"array_float: \", array_float, array_float.dtype)"
   ],
   "id": "2da193afe908f016",
   "outputs": [
    {
     "name": "stdout",
     "output_type": "stream",
     "text": [
      "array_float:  [1. 2. 3.] float64\n"
     ]
    }
   ],
   "execution_count": 8
  },
  {
   "metadata": {
    "ExecuteTime": {
     "end_time": "2025-01-09T07:41:40.752785Z",
     "start_time": "2025-01-09T07:41:40.748345Z"
    }
   },
   "cell_type": "code",
   "source": [
    "array_int = array_float.astype(int)\n",
    "print(\"array_int: \", array_int, array_int.dtype)"
   ],
   "id": "fd20b78508b5bbad",
   "outputs": [
    {
     "name": "stdout",
     "output_type": "stream",
     "text": [
      "array_int:  [1 2 3] int32\n"
     ]
    }
   ],
   "execution_count": 10
  },
  {
   "metadata": {},
   "cell_type": "markdown",
   "source": "## ndarray를 편하게 생성하기 - arange, zeros, ones",
   "id": "edb76b67a3004c76"
  },
  {
   "metadata": {
    "ExecuteTime": {
     "end_time": "2025-01-09T07:59:41.166907Z",
     "start_time": "2025-01-09T07:59:41.162049Z"
    }
   },
   "cell_type": "code",
   "source": [
    "sequence_array = np.arange(10)\n",
    "print(\"sequence_array: \", sequence_array)\n",
    "print(sequence_array.dtype, sequence_array.shape)"
   ],
   "id": "62631fed995fe3d2",
   "outputs": [
    {
     "name": "stdout",
     "output_type": "stream",
     "text": [
      "sequence_array:  [0 1 2 3 4 5 6 7 8 9]\n",
      "int32 (10,)\n"
     ]
    }
   ],
   "execution_count": 11
  },
  {
   "metadata": {
    "ExecuteTime": {
     "end_time": "2025-01-09T08:01:55.350287Z",
     "start_time": "2025-01-09T08:01:55.345803Z"
    }
   },
   "cell_type": "code",
   "source": [
    "#(3, 2) shape을 가지는 모든 원소가 0, dtype은 int32 인 ndarray 생성\n",
    "zeros_arr = np.zeros((3,2), dtype='int32')\n",
    "print(zeros_arr)\n",
    "print(zeros_arr.dtype, zeros_arr.shape)"
   ],
   "id": "bf497bf3516e66e7",
   "outputs": [
    {
     "name": "stdout",
     "output_type": "stream",
     "text": [
      "[[0 0]\n",
      " [0 0]\n",
      " [0 0]]\n",
      "int32 (3, 2)\n"
     ]
    }
   ],
   "execution_count": 13
  },
  {
   "metadata": {
    "ExecuteTime": {
     "end_time": "2025-01-09T08:02:35.585289Z",
     "start_time": "2025-01-09T08:02:35.580285Z"
    }
   },
   "cell_type": "code",
   "source": [
    "# (3, 2) shape을 가지는 모든 원소가 1인 ndarray 생성\n",
    "ones_arr = np.ones((3,2))\n",
    "print(ones_arr)\n",
    "print(ones_arr.dtype, ones_arr.shape)"
   ],
   "id": "4a0d0370c11f208d",
   "outputs": [
    {
     "name": "stdout",
     "output_type": "stream",
     "text": [
      "[[1. 1.]\n",
      " [1. 1.]\n",
      " [1. 1.]]\n",
      "float64 (3, 2)\n"
     ]
    }
   ],
   "execution_count": 14
  },
  {
   "metadata": {},
   "cell_type": "markdown",
   "source": "## ndarray의 차원과 크기를 변경하는 reshape",
   "id": "29657521db86eb36"
  },
  {
   "metadata": {
    "ExecuteTime": {
     "end_time": "2025-01-09T08:04:31.379889Z",
     "start_time": "2025-01-09T08:04:31.375501Z"
    }
   },
   "cell_type": "code",
   "source": [
    "array1 = np.arange(10)\n",
    "print(array1)\n",
    "\n",
    "# (2, 5) shape으로 변환\n",
    "array2 = array1.reshape(2,5)\n",
    "print(array2)\n",
    "\n",
    "# (5, 2) shape으로 변환\n",
    "array3 = array1.reshape(5,2)\n",
    "print(array3)"
   ],
   "id": "64d22e1fa2e817f1",
   "outputs": [
    {
     "name": "stdout",
     "output_type": "stream",
     "text": [
      "[0 1 2 3 4 5 6 7 8 9]\n",
      "[[0 1 2 3 4]\n",
      " [5 6 7 8 9]]\n",
      "[[0 1]\n",
      " [2 3]\n",
      " [4 5]\n",
      " [6 7]\n",
      " [8 9]]\n"
     ]
    }
   ],
   "execution_count": 15
  },
  {
   "metadata": {
    "ExecuteTime": {
     "end_time": "2025-01-09T08:07:56.594685Z",
     "start_time": "2025-01-09T08:07:56.589755Z"
    }
   },
   "cell_type": "code",
   "source": [
    "array1 = np.arange(10)\n",
    "print(array1)\n",
    "\n",
    "array2 = array1.reshape(-1, 5)\n",
    "print(array2)\n",
    "\n",
    "array3 = array1.reshape(5, -1)\n",
    "print(array3)"
   ],
   "id": "15240778a8c3e453",
   "outputs": [
    {
     "name": "stdout",
     "output_type": "stream",
     "text": [
      "[0 1 2 3 4 5 6 7 8 9]\n",
      "[[0 1 2 3 4]\n",
      " [5 6 7 8 9]]\n",
      "[[0 1]\n",
      " [2 3]\n",
      " [4 5]\n",
      " [6 7]\n",
      " [8 9]]\n"
     ]
    }
   ],
   "execution_count": 17
  }
 ],
 "metadata": {
  "kernelspec": {
   "display_name": "Python 3",
   "language": "python",
   "name": "python3"
  },
  "language_info": {
   "codemirror_mode": {
    "name": "ipython",
    "version": 2
   },
   "file_extension": ".py",
   "mimetype": "text/x-python",
   "name": "python",
   "nbconvert_exporter": "python",
   "pygments_lexer": "ipython2",
   "version": "2.7.6"
  }
 },
 "nbformat": 4,
 "nbformat_minor": 5
}
