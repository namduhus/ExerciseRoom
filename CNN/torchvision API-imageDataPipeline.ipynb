{
 "cells": [
  {
   "metadata": {},
   "cell_type": "markdown",
   "source": "## Cats and Dogs 데이터셋 다운로드",
   "id": "df4e2c94310a7d9d"
  },
  {
   "cell_type": "code",
   "id": "initial_id",
   "metadata": {
    "collapsed": true,
    "ExecuteTime": {
     "end_time": "2025-01-08T10:28:28.825054Z",
     "start_time": "2025-01-08T10:28:24.579647Z"
    }
   },
   "source": "from torchvision import datasets, transforms",
   "outputs": [],
   "execution_count": 1
  },
  {
   "metadata": {},
   "cell_type": "markdown",
   "source": "## ImageFolder API를 이용해 이미지 파일을 load하기 위한 경로 설정",
   "id": "1a34f5ee225bf2"
  },
  {
   "metadata": {
    "ExecuteTime": {
     "end_time": "2025-01-08T10:29:00.984076Z",
     "start_time": "2025-01-08T10:29:00.979813Z"
    }
   },
   "cell_type": "code",
   "source": [
    "train_dir = \"cats_and_dogs_filtered/train\"\n",
    "validation_dir = \"cats_and_dogs_filtered/val\""
   ],
   "id": "387fc5c4653580b6",
   "outputs": [],
   "execution_count": 6
  },
  {
   "metadata": {},
   "cell_type": "markdown",
   "source": [
    "## ImageFolder 객체 생성\n",
    "이미지파일을 load하여 Pillow Image 객체로 변환"
   ],
   "id": "b45087387923fae"
  },
  {
   "metadata": {
    "ExecuteTime": {
     "end_time": "2025-01-08T10:29:02.343209Z",
     "start_time": "2025-01-08T10:29:02.336734Z"
    }
   },
   "cell_type": "code",
   "source": "img_dataset = datasets.ImageFolder(root=train_dir)",
   "id": "192a98c5baab9dc4",
   "outputs": [],
   "execution_count": 7
  },
  {
   "metadata": {
    "ExecuteTime": {
     "end_time": "2025-01-08T10:29:08.404991Z",
     "start_time": "2025-01-08T10:29:08.395070Z"
    }
   },
   "cell_type": "code",
   "source": "img_dataset",
   "id": "d23f123b2594271",
   "outputs": [
    {
     "data": {
      "text/plain": [
       "Dataset ImageFolder\n",
       "    Number of datapoints: 275\n",
       "    Root location: cats_and_dogs_filtered/train"
      ]
     },
     "execution_count": 8,
     "metadata": {},
     "output_type": "execute_result"
    }
   ],
   "execution_count": 8
  },
  {
   "metadata": {},
   "cell_type": "markdown",
   "source": "## Transformers.ToTensor()API를 이용한 ImageFolder 객체생성",
   "id": "862da74018ed40de"
  },
  {
   "metadata": {
    "ExecuteTime": {
     "end_time": "2025-01-08T10:31:46.630348Z",
     "start_time": "2025-01-08T10:31:46.623639Z"
    }
   },
   "cell_type": "code",
   "source": [
    "img_dataset = datasets.ImageFolder(root=train_dir,\n",
    "                                   transform=transforms.ToTensor())"
   ],
   "id": "2d5628e05e059143",
   "outputs": [],
   "execution_count": 14
  },
  {
   "metadata": {
    "ExecuteTime": {
     "end_time": "2025-01-08T10:31:52.181032Z",
     "start_time": "2025-01-08T10:31:52.175007Z"
    }
   },
   "cell_type": "code",
   "source": "img_dataset",
   "id": "e6af8d28bf09583f",
   "outputs": [
    {
     "data": {
      "text/plain": [
       "Dataset ImageFolder\n",
       "    Number of datapoints: 275\n",
       "    Root location: cats_and_dogs_filtered/train\n",
       "    StandardTransform\n",
       "Transform: ToTensor()"
      ]
     },
     "execution_count": 15,
     "metadata": {},
     "output_type": "execute_result"
    }
   ],
   "execution_count": 15
  },
  {
   "metadata": {},
   "cell_type": "markdown",
   "source": [
    "## transforms.Compose()API를 활용한 ImageFolder 객체생성\n",
    "각기 이미지의  사이즈가 다르기 때문에 사이즈고정 전처리"
   ],
   "id": "725fb1253faf3c21"
  },
  {
   "metadata": {
    "ExecuteTime": {
     "end_time": "2025-01-08T10:35:06.940836Z",
     "start_time": "2025-01-08T10:35:06.937674Z"
    }
   },
   "cell_type": "code",
   "source": [
    "transforms_compose = transforms.Compose([\n",
    "    transforms.ToTensor(),\n",
    "    transforms.Resize(size=(150, 150))\n",
    "])"
   ],
   "id": "858ed31742ed6777",
   "outputs": [],
   "execution_count": 16
  },
  {
   "metadata": {
    "ExecuteTime": {
     "end_time": "2025-01-08T10:35:10.893958Z",
     "start_time": "2025-01-08T10:35:10.888542Z"
    }
   },
   "cell_type": "code",
   "source": "transforms_compose",
   "id": "a27c5077da06a01e",
   "outputs": [
    {
     "data": {
      "text/plain": [
       "Compose(\n",
       "    ToTensor()\n",
       "    Resize(size=(150, 150), interpolation=bilinear, max_size=None, antialias=True)\n",
       ")"
      ]
     },
     "execution_count": 17,
     "metadata": {},
     "output_type": "execute_result"
    }
   ],
   "execution_count": 17
  },
  {
   "metadata": {},
   "cell_type": "markdown",
   "source": "## ImageFolder 객체의 속성 및 메소드",
   "id": "7557cc079409156f"
  },
  {
   "metadata": {
    "ExecuteTime": {
     "end_time": "2025-01-08T10:36:44.486786Z",
     "start_time": "2025-01-08T10:36:44.481291Z"
    }
   },
   "cell_type": "code",
   "source": "img_dataset.class_to_idx",
   "id": "edea50c42f33c5a0",
   "outputs": [
    {
     "data": {
      "text/plain": [
       "{'cat': 0, 'dog': 1}"
      ]
     },
     "execution_count": 18,
     "metadata": {},
     "output_type": "execute_result"
    }
   ],
   "execution_count": 18
  }
 ],
 "metadata": {
  "kernelspec": {
   "display_name": "Python 3",
   "language": "python",
   "name": "python3"
  },
  "language_info": {
   "codemirror_mode": {
    "name": "ipython",
    "version": 2
   },
   "file_extension": ".py",
   "mimetype": "text/x-python",
   "name": "python",
   "nbconvert_exporter": "python",
   "pygments_lexer": "ipython2",
   "version": "2.7.6"
  }
 },
 "nbformat": 4,
 "nbformat_minor": 5
}
