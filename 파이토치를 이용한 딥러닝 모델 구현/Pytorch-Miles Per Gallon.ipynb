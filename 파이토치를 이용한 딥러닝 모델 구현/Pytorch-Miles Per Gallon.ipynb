{
 "cells": [
  {
   "metadata": {},
   "cell_type": "markdown",
   "source": "# 자동차 연비 데이터셋 으로 예측",
   "id": "a0630be57c5c21a4"
  },
  {
   "cell_type": "code",
   "id": "initial_id",
   "metadata": {
    "collapsed": true,
    "ExecuteTime": {
     "end_time": "2025-01-07T18:28:35.607360Z",
     "start_time": "2025-01-07T18:28:33.599976Z"
    }
   },
   "source": [
    "import torch\n",
    "import numpy as np\n",
    "import matplotlib.pyplot as plt\n",
    "from tomlkit import comment\n",
    "\n",
    "import torch.nn as nn\n",
    "from torch.utils.data import DataLoader, TensorDataset\n",
    "import pandas as pd\n",
    "\n",
    "import lightning.pytorch as pl"
   ],
   "outputs": [],
   "execution_count": 49
  },
  {
   "metadata": {},
   "cell_type": "markdown",
   "source": "## Step 1 Input tensor, Target Tensor 준비",
   "id": "f78d62720e32cf41"
  },
  {
   "metadata": {
    "ExecuteTime": {
     "end_time": "2025-01-07T17:21:55.401161Z",
     "start_time": "2025-01-07T17:21:55.395161Z"
    }
   },
   "cell_type": "code",
   "source": [
    "# dataset 파일읽어 Dataframe 객체 생성\n",
    "auto_mpg_dataset_url = \"파이토치를 이용한 딥러닝 모델 구현/auto-mpg.data\"\n",
    "\n",
    "column_name = ['MPG', 'Cylinders', 'Displacement', 'Horsepower', 'Weight',\n",
    "               'Acceleration', 'Model Year', 'Origin', 'Car name']\n",
    "\n",
    "raw_dataset = pd.read_csv(\"auto-mpg.data\", names=column_name, na_values='?', comment = '\\t'\n",
    "                          ,sep = \" \", skipinitialspace=True)"
   ],
   "id": "1c9970fe86f334bf",
   "outputs": [],
   "execution_count": 6
  },
  {
   "metadata": {
    "ExecuteTime": {
     "end_time": "2025-01-07T17:23:04.338971Z",
     "start_time": "2025-01-07T17:23:04.318798Z"
    }
   },
   "cell_type": "code",
   "source": "raw_dataset",
   "id": "4d56b6d4623fe31d",
   "outputs": [
    {
     "data": {
      "text/plain": [
       "      MPG  Cylinders  Displacement  Horsepower  Weight  Acceleration  \\\n",
       "0    18.0          8         307.0       130.0  3504.0          12.0   \n",
       "1    15.0          8         350.0       165.0  3693.0          11.5   \n",
       "2    18.0          8         318.0       150.0  3436.0          11.0   \n",
       "3    16.0          8         304.0       150.0  3433.0          12.0   \n",
       "4    17.0          8         302.0       140.0  3449.0          10.5   \n",
       "..    ...        ...           ...         ...     ...           ...   \n",
       "393  27.0          4         140.0        86.0  2790.0          15.6   \n",
       "394  44.0          4          97.0        52.0  2130.0          24.6   \n",
       "395  32.0          4         135.0        84.0  2295.0          11.6   \n",
       "396  28.0          4         120.0        79.0  2625.0          18.6   \n",
       "397  31.0          4         119.0        82.0  2720.0          19.4   \n",
       "\n",
       "     Model Year  Origin  Car name  \n",
       "0            70       1       NaN  \n",
       "1            70       1       NaN  \n",
       "2            70       1       NaN  \n",
       "3            70       1       NaN  \n",
       "4            70       1       NaN  \n",
       "..          ...     ...       ...  \n",
       "393          82       1       NaN  \n",
       "394          82       2       NaN  \n",
       "395          82       1       NaN  \n",
       "396          82       1       NaN  \n",
       "397          82       1       NaN  \n",
       "\n",
       "[398 rows x 9 columns]"
      ],
      "text/html": [
       "<div>\n",
       "<style scoped>\n",
       "    .dataframe tbody tr th:only-of-type {\n",
       "        vertical-align: middle;\n",
       "    }\n",
       "\n",
       "    .dataframe tbody tr th {\n",
       "        vertical-align: top;\n",
       "    }\n",
       "\n",
       "    .dataframe thead th {\n",
       "        text-align: right;\n",
       "    }\n",
       "</style>\n",
       "<table border=\"1\" class=\"dataframe\">\n",
       "  <thead>\n",
       "    <tr style=\"text-align: right;\">\n",
       "      <th></th>\n",
       "      <th>MPG</th>\n",
       "      <th>Cylinders</th>\n",
       "      <th>Displacement</th>\n",
       "      <th>Horsepower</th>\n",
       "      <th>Weight</th>\n",
       "      <th>Acceleration</th>\n",
       "      <th>Model Year</th>\n",
       "      <th>Origin</th>\n",
       "      <th>Car name</th>\n",
       "    </tr>\n",
       "  </thead>\n",
       "  <tbody>\n",
       "    <tr>\n",
       "      <th>0</th>\n",
       "      <td>18.0</td>\n",
       "      <td>8</td>\n",
       "      <td>307.0</td>\n",
       "      <td>130.0</td>\n",
       "      <td>3504.0</td>\n",
       "      <td>12.0</td>\n",
       "      <td>70</td>\n",
       "      <td>1</td>\n",
       "      <td>NaN</td>\n",
       "    </tr>\n",
       "    <tr>\n",
       "      <th>1</th>\n",
       "      <td>15.0</td>\n",
       "      <td>8</td>\n",
       "      <td>350.0</td>\n",
       "      <td>165.0</td>\n",
       "      <td>3693.0</td>\n",
       "      <td>11.5</td>\n",
       "      <td>70</td>\n",
       "      <td>1</td>\n",
       "      <td>NaN</td>\n",
       "    </tr>\n",
       "    <tr>\n",
       "      <th>2</th>\n",
       "      <td>18.0</td>\n",
       "      <td>8</td>\n",
       "      <td>318.0</td>\n",
       "      <td>150.0</td>\n",
       "      <td>3436.0</td>\n",
       "      <td>11.0</td>\n",
       "      <td>70</td>\n",
       "      <td>1</td>\n",
       "      <td>NaN</td>\n",
       "    </tr>\n",
       "    <tr>\n",
       "      <th>3</th>\n",
       "      <td>16.0</td>\n",
       "      <td>8</td>\n",
       "      <td>304.0</td>\n",
       "      <td>150.0</td>\n",
       "      <td>3433.0</td>\n",
       "      <td>12.0</td>\n",
       "      <td>70</td>\n",
       "      <td>1</td>\n",
       "      <td>NaN</td>\n",
       "    </tr>\n",
       "    <tr>\n",
       "      <th>4</th>\n",
       "      <td>17.0</td>\n",
       "      <td>8</td>\n",
       "      <td>302.0</td>\n",
       "      <td>140.0</td>\n",
       "      <td>3449.0</td>\n",
       "      <td>10.5</td>\n",
       "      <td>70</td>\n",
       "      <td>1</td>\n",
       "      <td>NaN</td>\n",
       "    </tr>\n",
       "    <tr>\n",
       "      <th>...</th>\n",
       "      <td>...</td>\n",
       "      <td>...</td>\n",
       "      <td>...</td>\n",
       "      <td>...</td>\n",
       "      <td>...</td>\n",
       "      <td>...</td>\n",
       "      <td>...</td>\n",
       "      <td>...</td>\n",
       "      <td>...</td>\n",
       "    </tr>\n",
       "    <tr>\n",
       "      <th>393</th>\n",
       "      <td>27.0</td>\n",
       "      <td>4</td>\n",
       "      <td>140.0</td>\n",
       "      <td>86.0</td>\n",
       "      <td>2790.0</td>\n",
       "      <td>15.6</td>\n",
       "      <td>82</td>\n",
       "      <td>1</td>\n",
       "      <td>NaN</td>\n",
       "    </tr>\n",
       "    <tr>\n",
       "      <th>394</th>\n",
       "      <td>44.0</td>\n",
       "      <td>4</td>\n",
       "      <td>97.0</td>\n",
       "      <td>52.0</td>\n",
       "      <td>2130.0</td>\n",
       "      <td>24.6</td>\n",
       "      <td>82</td>\n",
       "      <td>2</td>\n",
       "      <td>NaN</td>\n",
       "    </tr>\n",
       "    <tr>\n",
       "      <th>395</th>\n",
       "      <td>32.0</td>\n",
       "      <td>4</td>\n",
       "      <td>135.0</td>\n",
       "      <td>84.0</td>\n",
       "      <td>2295.0</td>\n",
       "      <td>11.6</td>\n",
       "      <td>82</td>\n",
       "      <td>1</td>\n",
       "      <td>NaN</td>\n",
       "    </tr>\n",
       "    <tr>\n",
       "      <th>396</th>\n",
       "      <td>28.0</td>\n",
       "      <td>4</td>\n",
       "      <td>120.0</td>\n",
       "      <td>79.0</td>\n",
       "      <td>2625.0</td>\n",
       "      <td>18.6</td>\n",
       "      <td>82</td>\n",
       "      <td>1</td>\n",
       "      <td>NaN</td>\n",
       "    </tr>\n",
       "    <tr>\n",
       "      <th>397</th>\n",
       "      <td>31.0</td>\n",
       "      <td>4</td>\n",
       "      <td>119.0</td>\n",
       "      <td>82.0</td>\n",
       "      <td>2720.0</td>\n",
       "      <td>19.4</td>\n",
       "      <td>82</td>\n",
       "      <td>1</td>\n",
       "      <td>NaN</td>\n",
       "    </tr>\n",
       "  </tbody>\n",
       "</table>\n",
       "<p>398 rows × 9 columns</p>\n",
       "</div>"
      ]
     },
     "execution_count": 7,
     "metadata": {},
     "output_type": "execute_result"
    }
   ],
   "execution_count": 7
  },
  {
   "metadata": {},
   "cell_type": "markdown",
   "source": "## Step2 데이터 전처리",
   "id": "1982372db7387d0"
  },
  {
   "metadata": {
    "ExecuteTime": {
     "end_time": "2025-01-07T17:31:10.272634Z",
     "start_time": "2025-01-07T17:31:10.260125Z"
    }
   },
   "cell_type": "code",
   "source": [
    "# 자동차 이름 특성 제거\n",
    "dataset = raw_dataset.drop(labels='Car name', axis=1)\n",
    "dataset"
   ],
   "id": "c67b760dfe32d374",
   "outputs": [
    {
     "data": {
      "text/plain": [
       "      MPG  Cylinders  Displacement  Horsepower  Weight  Acceleration  \\\n",
       "0    18.0          8         307.0       130.0  3504.0          12.0   \n",
       "1    15.0          8         350.0       165.0  3693.0          11.5   \n",
       "2    18.0          8         318.0       150.0  3436.0          11.0   \n",
       "3    16.0          8         304.0       150.0  3433.0          12.0   \n",
       "4    17.0          8         302.0       140.0  3449.0          10.5   \n",
       "..    ...        ...           ...         ...     ...           ...   \n",
       "393  27.0          4         140.0        86.0  2790.0          15.6   \n",
       "394  44.0          4          97.0        52.0  2130.0          24.6   \n",
       "395  32.0          4         135.0        84.0  2295.0          11.6   \n",
       "396  28.0          4         120.0        79.0  2625.0          18.6   \n",
       "397  31.0          4         119.0        82.0  2720.0          19.4   \n",
       "\n",
       "     Model Year  Origin  \n",
       "0            70       1  \n",
       "1            70       1  \n",
       "2            70       1  \n",
       "3            70       1  \n",
       "4            70       1  \n",
       "..          ...     ...  \n",
       "393          82       1  \n",
       "394          82       2  \n",
       "395          82       1  \n",
       "396          82       1  \n",
       "397          82       1  \n",
       "\n",
       "[398 rows x 8 columns]"
      ],
      "text/html": [
       "<div>\n",
       "<style scoped>\n",
       "    .dataframe tbody tr th:only-of-type {\n",
       "        vertical-align: middle;\n",
       "    }\n",
       "\n",
       "    .dataframe tbody tr th {\n",
       "        vertical-align: top;\n",
       "    }\n",
       "\n",
       "    .dataframe thead th {\n",
       "        text-align: right;\n",
       "    }\n",
       "</style>\n",
       "<table border=\"1\" class=\"dataframe\">\n",
       "  <thead>\n",
       "    <tr style=\"text-align: right;\">\n",
       "      <th></th>\n",
       "      <th>MPG</th>\n",
       "      <th>Cylinders</th>\n",
       "      <th>Displacement</th>\n",
       "      <th>Horsepower</th>\n",
       "      <th>Weight</th>\n",
       "      <th>Acceleration</th>\n",
       "      <th>Model Year</th>\n",
       "      <th>Origin</th>\n",
       "    </tr>\n",
       "  </thead>\n",
       "  <tbody>\n",
       "    <tr>\n",
       "      <th>0</th>\n",
       "      <td>18.0</td>\n",
       "      <td>8</td>\n",
       "      <td>307.0</td>\n",
       "      <td>130.0</td>\n",
       "      <td>3504.0</td>\n",
       "      <td>12.0</td>\n",
       "      <td>70</td>\n",
       "      <td>1</td>\n",
       "    </tr>\n",
       "    <tr>\n",
       "      <th>1</th>\n",
       "      <td>15.0</td>\n",
       "      <td>8</td>\n",
       "      <td>350.0</td>\n",
       "      <td>165.0</td>\n",
       "      <td>3693.0</td>\n",
       "      <td>11.5</td>\n",
       "      <td>70</td>\n",
       "      <td>1</td>\n",
       "    </tr>\n",
       "    <tr>\n",
       "      <th>2</th>\n",
       "      <td>18.0</td>\n",
       "      <td>8</td>\n",
       "      <td>318.0</td>\n",
       "      <td>150.0</td>\n",
       "      <td>3436.0</td>\n",
       "      <td>11.0</td>\n",
       "      <td>70</td>\n",
       "      <td>1</td>\n",
       "    </tr>\n",
       "    <tr>\n",
       "      <th>3</th>\n",
       "      <td>16.0</td>\n",
       "      <td>8</td>\n",
       "      <td>304.0</td>\n",
       "      <td>150.0</td>\n",
       "      <td>3433.0</td>\n",
       "      <td>12.0</td>\n",
       "      <td>70</td>\n",
       "      <td>1</td>\n",
       "    </tr>\n",
       "    <tr>\n",
       "      <th>4</th>\n",
       "      <td>17.0</td>\n",
       "      <td>8</td>\n",
       "      <td>302.0</td>\n",
       "      <td>140.0</td>\n",
       "      <td>3449.0</td>\n",
       "      <td>10.5</td>\n",
       "      <td>70</td>\n",
       "      <td>1</td>\n",
       "    </tr>\n",
       "    <tr>\n",
       "      <th>...</th>\n",
       "      <td>...</td>\n",
       "      <td>...</td>\n",
       "      <td>...</td>\n",
       "      <td>...</td>\n",
       "      <td>...</td>\n",
       "      <td>...</td>\n",
       "      <td>...</td>\n",
       "      <td>...</td>\n",
       "    </tr>\n",
       "    <tr>\n",
       "      <th>393</th>\n",
       "      <td>27.0</td>\n",
       "      <td>4</td>\n",
       "      <td>140.0</td>\n",
       "      <td>86.0</td>\n",
       "      <td>2790.0</td>\n",
       "      <td>15.6</td>\n",
       "      <td>82</td>\n",
       "      <td>1</td>\n",
       "    </tr>\n",
       "    <tr>\n",
       "      <th>394</th>\n",
       "      <td>44.0</td>\n",
       "      <td>4</td>\n",
       "      <td>97.0</td>\n",
       "      <td>52.0</td>\n",
       "      <td>2130.0</td>\n",
       "      <td>24.6</td>\n",
       "      <td>82</td>\n",
       "      <td>2</td>\n",
       "    </tr>\n",
       "    <tr>\n",
       "      <th>395</th>\n",
       "      <td>32.0</td>\n",
       "      <td>4</td>\n",
       "      <td>135.0</td>\n",
       "      <td>84.0</td>\n",
       "      <td>2295.0</td>\n",
       "      <td>11.6</td>\n",
       "      <td>82</td>\n",
       "      <td>1</td>\n",
       "    </tr>\n",
       "    <tr>\n",
       "      <th>396</th>\n",
       "      <td>28.0</td>\n",
       "      <td>4</td>\n",
       "      <td>120.0</td>\n",
       "      <td>79.0</td>\n",
       "      <td>2625.0</td>\n",
       "      <td>18.6</td>\n",
       "      <td>82</td>\n",
       "      <td>1</td>\n",
       "    </tr>\n",
       "    <tr>\n",
       "      <th>397</th>\n",
       "      <td>31.0</td>\n",
       "      <td>4</td>\n",
       "      <td>119.0</td>\n",
       "      <td>82.0</td>\n",
       "      <td>2720.0</td>\n",
       "      <td>19.4</td>\n",
       "      <td>82</td>\n",
       "      <td>1</td>\n",
       "    </tr>\n",
       "  </tbody>\n",
       "</table>\n",
       "<p>398 rows × 8 columns</p>\n",
       "</div>"
      ]
     },
     "execution_count": 13,
     "metadata": {},
     "output_type": "execute_result"
    }
   ],
   "execution_count": 13
  },
  {
   "metadata": {
    "ExecuteTime": {
     "end_time": "2025-01-07T17:31:17.317568Z",
     "start_time": "2025-01-07T17:31:17.311119Z"
    }
   },
   "cell_type": "code",
   "source": [
    "# dataset NaN값 제거\n",
    "dataset.isna().sum()"
   ],
   "id": "9f0ecadda7fad26d",
   "outputs": [
    {
     "data": {
      "text/plain": [
       "MPG             0\n",
       "Cylinders       0\n",
       "Displacement    0\n",
       "Horsepower      6\n",
       "Weight          0\n",
       "Acceleration    0\n",
       "Model Year      0\n",
       "Origin          0\n",
       "dtype: int64"
      ]
     },
     "execution_count": 14,
     "metadata": {},
     "output_type": "execute_result"
    }
   ],
   "execution_count": 14
  },
  {
   "metadata": {
    "ExecuteTime": {
     "end_time": "2025-01-07T17:31:23.791350Z",
     "start_time": "2025-01-07T17:31:23.786354Z"
    }
   },
   "cell_type": "code",
   "source": "dataset.dropna(inplace=True)",
   "id": "e043adc72b660000",
   "outputs": [],
   "execution_count": 15
  },
  {
   "metadata": {
    "ExecuteTime": {
     "end_time": "2025-01-07T17:31:27.305873Z",
     "start_time": "2025-01-07T17:31:27.300646Z"
    }
   },
   "cell_type": "code",
   "source": [
    "#데이터셋 분할 Train, Test\n",
    "Train_dataset=dataset.sample(frac=0.8)\n",
    "test_dataset=dataset.drop(Train_dataset.index)"
   ],
   "id": "ce3aa2639d2ce5b9",
   "outputs": [],
   "execution_count": 16
  },
  {
   "metadata": {
    "ExecuteTime": {
     "end_time": "2025-01-07T17:31:28.587775Z",
     "start_time": "2025-01-07T17:31:28.581525Z"
    }
   },
   "cell_type": "code",
   "source": "len(Train_dataset), len(test_dataset)",
   "id": "442b1613e0a24f9",
   "outputs": [
    {
     "data": {
      "text/plain": [
       "(314, 78)"
      ]
     },
     "execution_count": 17,
     "metadata": {},
     "output_type": "execute_result"
    }
   ],
   "execution_count": 17
  },
  {
   "metadata": {
    "ExecuteTime": {
     "end_time": "2025-01-07T17:37:01.088786Z",
     "start_time": "2025-01-07T17:37:01.072976Z"
    }
   },
   "cell_type": "code",
   "source": [
    "# 정답 데이터 MPG-연비 제거\n",
    "train_stats = Train_dataset.describe()\n",
    "train_stats.drop(labels=\"MPG\",axis=1, inplace=True)"
   ],
   "id": "ed6f2131ce0a2556",
   "outputs": [],
   "execution_count": 18
  },
  {
   "metadata": {
    "ExecuteTime": {
     "end_time": "2025-01-07T17:38:09.869550Z",
     "start_time": "2025-01-07T17:38:09.866159Z"
    }
   },
   "cell_type": "code",
   "source": [
    "# raw와 column 위치 바꾸기 Transpose\n",
    "train_stats = train_stats.transpose()"
   ],
   "id": "278133a8eb4951dd",
   "outputs": [],
   "execution_count": 22
  },
  {
   "metadata": {
    "ExecuteTime": {
     "end_time": "2025-01-07T17:38:10.968434Z",
     "start_time": "2025-01-07T17:38:10.954935Z"
    }
   },
   "cell_type": "code",
   "source": "train_stats",
   "id": "87d8bdaf9ac45871",
   "outputs": [
    {
     "data": {
      "text/plain": [
       "              count         mean         std     min      25%     50%  \\\n",
       "Cylinders     314.0     5.404459    1.691582     3.0     4.00     4.0   \n",
       "Displacement  314.0   191.816879  104.822667    68.0   105.00   142.5   \n",
       "Horsepower    314.0   104.092357   38.905486    46.0    75.25    90.5   \n",
       "Weight        314.0  2964.372611  847.064319  1613.0  2226.50  2764.5   \n",
       "Acceleration  314.0    15.583439    2.693463     8.0    14.00    15.5   \n",
       "Model Year    314.0    75.898089    3.718849    70.0    73.00    76.0   \n",
       "Origin        314.0     1.566879    0.789499     1.0     1.00     1.0   \n",
       "\n",
       "                  75%     max  \n",
       "Cylinders        6.00     8.0  \n",
       "Displacement   259.50   455.0  \n",
       "Horsepower     120.00   230.0  \n",
       "Weight        3554.75  5140.0  \n",
       "Acceleration    17.00    24.8  \n",
       "Model Year      79.00    82.0  \n",
       "Origin           2.00     3.0  "
      ],
      "text/html": [
       "<div>\n",
       "<style scoped>\n",
       "    .dataframe tbody tr th:only-of-type {\n",
       "        vertical-align: middle;\n",
       "    }\n",
       "\n",
       "    .dataframe tbody tr th {\n",
       "        vertical-align: top;\n",
       "    }\n",
       "\n",
       "    .dataframe thead th {\n",
       "        text-align: right;\n",
       "    }\n",
       "</style>\n",
       "<table border=\"1\" class=\"dataframe\">\n",
       "  <thead>\n",
       "    <tr style=\"text-align: right;\">\n",
       "      <th></th>\n",
       "      <th>count</th>\n",
       "      <th>mean</th>\n",
       "      <th>std</th>\n",
       "      <th>min</th>\n",
       "      <th>25%</th>\n",
       "      <th>50%</th>\n",
       "      <th>75%</th>\n",
       "      <th>max</th>\n",
       "    </tr>\n",
       "  </thead>\n",
       "  <tbody>\n",
       "    <tr>\n",
       "      <th>Cylinders</th>\n",
       "      <td>314.0</td>\n",
       "      <td>5.404459</td>\n",
       "      <td>1.691582</td>\n",
       "      <td>3.0</td>\n",
       "      <td>4.00</td>\n",
       "      <td>4.0</td>\n",
       "      <td>6.00</td>\n",
       "      <td>8.0</td>\n",
       "    </tr>\n",
       "    <tr>\n",
       "      <th>Displacement</th>\n",
       "      <td>314.0</td>\n",
       "      <td>191.816879</td>\n",
       "      <td>104.822667</td>\n",
       "      <td>68.0</td>\n",
       "      <td>105.00</td>\n",
       "      <td>142.5</td>\n",
       "      <td>259.50</td>\n",
       "      <td>455.0</td>\n",
       "    </tr>\n",
       "    <tr>\n",
       "      <th>Horsepower</th>\n",
       "      <td>314.0</td>\n",
       "      <td>104.092357</td>\n",
       "      <td>38.905486</td>\n",
       "      <td>46.0</td>\n",
       "      <td>75.25</td>\n",
       "      <td>90.5</td>\n",
       "      <td>120.00</td>\n",
       "      <td>230.0</td>\n",
       "    </tr>\n",
       "    <tr>\n",
       "      <th>Weight</th>\n",
       "      <td>314.0</td>\n",
       "      <td>2964.372611</td>\n",
       "      <td>847.064319</td>\n",
       "      <td>1613.0</td>\n",
       "      <td>2226.50</td>\n",
       "      <td>2764.5</td>\n",
       "      <td>3554.75</td>\n",
       "      <td>5140.0</td>\n",
       "    </tr>\n",
       "    <tr>\n",
       "      <th>Acceleration</th>\n",
       "      <td>314.0</td>\n",
       "      <td>15.583439</td>\n",
       "      <td>2.693463</td>\n",
       "      <td>8.0</td>\n",
       "      <td>14.00</td>\n",
       "      <td>15.5</td>\n",
       "      <td>17.00</td>\n",
       "      <td>24.8</td>\n",
       "    </tr>\n",
       "    <tr>\n",
       "      <th>Model Year</th>\n",
       "      <td>314.0</td>\n",
       "      <td>75.898089</td>\n",
       "      <td>3.718849</td>\n",
       "      <td>70.0</td>\n",
       "      <td>73.00</td>\n",
       "      <td>76.0</td>\n",
       "      <td>79.00</td>\n",
       "      <td>82.0</td>\n",
       "    </tr>\n",
       "    <tr>\n",
       "      <th>Origin</th>\n",
       "      <td>314.0</td>\n",
       "      <td>1.566879</td>\n",
       "      <td>0.789499</td>\n",
       "      <td>1.0</td>\n",
       "      <td>1.00</td>\n",
       "      <td>1.0</td>\n",
       "      <td>2.00</td>\n",
       "      <td>3.0</td>\n",
       "    </tr>\n",
       "  </tbody>\n",
       "</table>\n",
       "</div>"
      ]
     },
     "execution_count": 23,
     "metadata": {},
     "output_type": "execute_result"
    }
   ],
   "execution_count": 23
  },
  {
   "metadata": {
    "ExecuteTime": {
     "end_time": "2025-01-07T17:40:15.167276Z",
     "start_time": "2025-01-07T17:40:15.160756Z"
    }
   },
   "cell_type": "code",
   "source": [
    "# target tensor를 위한 연비값 추출\n",
    "train_labels = Train_dataset.pop(\"MPG\")\n",
    "test_labels = test_dataset.pop(\"MPG\")"
   ],
   "id": "c284090d7e4e06e",
   "outputs": [],
   "execution_count": 26
  },
  {
   "metadata": {
    "ExecuteTime": {
     "end_time": "2025-01-07T17:45:19.471064Z",
     "start_time": "2025-01-07T17:45:19.464050Z"
    }
   },
   "cell_type": "code",
   "source": [
    "# 정규화 전처리\n",
    "train_mean = train_stats['mean']\n",
    "train_std = train_stats['std']\n",
    "Train_dataset = (Train_dataset - train_mean) / train_std"
   ],
   "id": "616b5f4428db7d03",
   "outputs": [],
   "execution_count": 28
  },
  {
   "metadata": {
    "ExecuteTime": {
     "end_time": "2025-01-07T17:45:51.152382Z",
     "start_time": "2025-01-07T17:45:51.146538Z"
    }
   },
   "cell_type": "code",
   "source": "test_dataset = (test_dataset - train_mean) / train_std",
   "id": "6c596d5c0b07cc85",
   "outputs": [],
   "execution_count": 29
  },
  {
   "metadata": {},
   "cell_type": "markdown",
   "source": "## Step3 pipeline 생성",
   "id": "b3b1d30afe9bb139"
  },
  {
   "metadata": {
    "ExecuteTime": {
     "end_time": "2025-01-07T17:51:28.892163Z",
     "start_time": "2025-01-07T17:51:28.866709Z"
    }
   },
   "cell_type": "code",
   "source": [
    "# torch Tensor 객체 변환\n",
    "train_x = torch.Tensor(Train_dataset.values)\n",
    "test_x = torch.Tensor(test_dataset.values)\n",
    "\n",
    "train_y = torch.Tensor(train_labels.values).unsqueeze(1)\n",
    "test_y = torch.Tensor(test_labels.values).unsqueeze(1)"
   ],
   "id": "8d766d8941a2870",
   "outputs": [],
   "execution_count": 30
  },
  {
   "metadata": {
    "ExecuteTime": {
     "end_time": "2025-01-07T18:08:02.110990Z",
     "start_time": "2025-01-07T18:08:02.104984Z"
    }
   },
   "cell_type": "code",
   "source": [
    "train_x = train_x.to(device)\n",
    "train_y = train_y.to(device)\n",
    "test_x = test_x.to(device)\n",
    "test_y = test_y.to(device)"
   ],
   "id": "15e2baff23f79bc6",
   "outputs": [],
   "execution_count": 40
  },
  {
   "metadata": {
    "ExecuteTime": {
     "end_time": "2025-01-07T17:51:47.283531Z",
     "start_time": "2025-01-07T17:51:47.277557Z"
    }
   },
   "cell_type": "code",
   "source": "train_x.shape , train_y.shape",
   "id": "cf1e17a22751ab37",
   "outputs": [
    {
     "data": {
      "text/plain": [
       "(torch.Size([314, 7]), torch.Size([314, 1]))"
      ]
     },
     "execution_count": 31,
     "metadata": {},
     "output_type": "execute_result"
    }
   ],
   "execution_count": 31
  },
  {
   "metadata": {
    "ExecuteTime": {
     "end_time": "2025-01-07T18:08:07.874879Z",
     "start_time": "2025-01-07T18:08:07.870842Z"
    }
   },
   "cell_type": "code",
   "source": [
    "# torch.tensor 객체를 이용해 Dataset 객체 생성\n",
    "\n",
    "train_dataset = TensorDataset(train_x, train_y)\n",
    "test_dataset = TensorDataset(test_x, test_y)"
   ],
   "id": "8bdd36a54cb51a78",
   "outputs": [],
   "execution_count": 41
  },
  {
   "metadata": {
    "ExecuteTime": {
     "end_time": "2025-01-07T18:08:09.548988Z",
     "start_time": "2025-01-07T18:08:09.545852Z"
    }
   },
   "cell_type": "code",
   "source": [
    "# Dataset 객체를 이용해 DataLoader 객체를  생성\n",
    "train_loader=DataLoader(dataset = train_dataset, batch_size = 8, shuffle = True)\n",
    "test_loader=DataLoader(dataset = test_dataset, batch_size = 8, shuffle = False)"
   ],
   "id": "d9378fb00f67f3b7",
   "outputs": [],
   "execution_count": 42
  },
  {
   "metadata": {},
   "cell_type": "markdown",
   "source": "## Step4 DNN 모델 디자인",
   "id": "edf9d1259b9eda71"
  },
  {
   "metadata": {
    "ExecuteTime": {
     "end_time": "2025-01-07T18:02:14.578476Z",
     "start_time": "2025-01-07T18:02:14.573127Z"
    }
   },
   "cell_type": "code",
   "source": [
    "# Subclassing - sequential 버전\n",
    "class MPGModel(nn.Module):\n",
    "    def __init__(self):\n",
    "        super().__init__()\n",
    "        self.linear_stack = nn.Sequential(\n",
    "            nn.Linear(7, 64),\n",
    "            nn.ReLU(),\n",
    "            nn.Linear(64, 32),\n",
    "            nn.ReLU(),\n",
    "            nn.Linear(32, 16),\n",
    "            nn.ReLU(),\n",
    "            nn.Linear(16, 1),\n",
    "        )\n",
    "    def forward(self, x):\n",
    "        x =  self.linear_stack(x)\n",
    "        return x"
   ],
   "id": "db7b0761addce3f9",
   "outputs": [],
   "execution_count": 36
  },
  {
   "metadata": {
    "ExecuteTime": {
     "end_time": "2025-01-07T18:04:54.205259Z",
     "start_time": "2025-01-07T18:04:54.200045Z"
    }
   },
   "cell_type": "code",
   "source": "model = MPGModel()",
   "id": "7480a7b406fb9536",
   "outputs": [],
   "execution_count": 38
  },
  {
   "metadata": {
    "ExecuteTime": {
     "end_time": "2025-01-07T18:06:55.796394Z",
     "start_time": "2025-01-07T18:06:55.781395Z"
    }
   },
   "cell_type": "code",
   "source": [
    "from torchsummary import summary\n",
    "device = torch.device(\"cuda\" if torch.cuda.is_available() else \"cpu\")\n",
    "model = model.to(device)"
   ],
   "id": "8282cdc254a62748",
   "outputs": [],
   "execution_count": 39
  },
  {
   "metadata": {
    "ExecuteTime": {
     "end_time": "2025-01-07T18:08:42.225539Z",
     "start_time": "2025-01-07T18:08:42.090338Z"
    }
   },
   "cell_type": "code",
   "source": "summary(model, input_size=(7,), batch_size=8)",
   "id": "9340dffe7e71505c",
   "outputs": [
    {
     "name": "stdout",
     "output_type": "stream",
     "text": [
      "----------------------------------------------------------------\n",
      "        Layer (type)               Output Shape         Param #\n",
      "================================================================\n",
      "            Linear-1                    [8, 64]             512\n",
      "              ReLU-2                    [8, 64]               0\n",
      "            Linear-3                    [8, 32]           2,080\n",
      "              ReLU-4                    [8, 32]               0\n",
      "            Linear-5                    [8, 16]             528\n",
      "              ReLU-6                    [8, 16]               0\n",
      "            Linear-7                     [8, 1]              17\n",
      "================================================================\n",
      "Total params: 3,137\n",
      "Trainable params: 3,137\n",
      "Non-trainable params: 0\n",
      "----------------------------------------------------------------\n",
      "Input size (MB): 0.00\n",
      "Forward/backward pass size (MB): 0.01\n",
      "Params size (MB): 0.01\n",
      "Estimated Total Size (MB): 0.03\n",
      "----------------------------------------------------------------\n"
     ]
    }
   ],
   "execution_count": 44
  },
  {
   "metadata": {
    "ExecuteTime": {
     "end_time": "2025-01-07T18:32:02.688336Z",
     "start_time": "2025-01-07T18:32:02.681337Z"
    }
   },
   "cell_type": "code",
   "source": [
    "## torchLightning 버전\n",
    "\n",
    "class LMPGModel(pl.LightningModule):\n",
    "    def __init__(self):\n",
    "        super().__init__()\n",
    "\n",
    "        self.linear1 = nn.Linear(7, 64)\n",
    "        self.linear2 = nn.Linear(64, 32)\n",
    "        self.linear3 = nn.Linear(32, 16)\n",
    "        self.linear4 = nn.Linear(16, 1)\n",
    "\n",
    "    def forward(self, x):\n",
    "        #Layer1\n",
    "        x = self.linear1(x)\n",
    "        x = torch.relu(x)\n",
    "\n",
    "        #Layer2\n",
    "        x = self.linear2(x)\n",
    "        x = torch.relu(x)\n",
    "\n",
    "        #Layer3\n",
    "        x = self.linear3(x)\n",
    "        x = torch.relu(x)\n",
    "\n",
    "        #Layer4\n",
    "        x = self.linear4(x)\n",
    "\n",
    "        return x\n",
    "\n",
    "    def mse_loss(self, logits, labels):\n",
    "        loss = nn.MSELoss()\n",
    "        return loss(logits, labels)\n",
    "\n",
    "    def training_step(self, train_batch, batch_idx):\n",
    "        x, y = train_batch\n",
    "        logits = self.forward(x)\n",
    "        loss = self.mse_loss(logits, y)\n",
    "        self.log('train_loss', loss)\n",
    "        return loss\n",
    "\n",
    "    def test_step(self, test_batch, batch_idx):\n",
    "        x, y = test_batch\n",
    "        logits = self.forward(x)\n",
    "        loss = self.mse_loss(logits, y)\n",
    "        self.log('test_loss', loss)\n",
    "\n",
    "    def configure_optimizers(self):\n",
    "        optimizer = torch.optim.Adam(self.parameters(), lr=0.001)"
   ],
   "id": "593867a1241f2078",
   "outputs": [],
   "execution_count": 54
  },
  {
   "metadata": {
    "ExecuteTime": {
     "end_time": "2025-01-07T18:32:30.179448Z",
     "start_time": "2025-01-07T18:32:05.640444Z"
    }
   },
   "cell_type": "code",
   "source": [
    "model = LMPGModel()\n",
    "trainer = pl.Trainer(default_root_dir= 'C:/exercise/lightning_logs',\n",
    "                     max_epochs = 100,\n",
    "                     accelerator=\"gpu\",\n",
    "                     devices=1)\n",
    "trainer.fit(model, train_loader)"
   ],
   "id": "e715ad43a1891e45",
   "outputs": [
    {
     "name": "stderr",
     "output_type": "stream",
     "text": [
      "GPU available: True (cuda), used: True\n",
      "TPU available: False, using: 0 TPU cores\n",
      "HPU available: False, using: 0 HPUs\n",
      "You are using a CUDA device ('NVIDIA GeForce RTX 3050 Ti Laptop GPU') that has Tensor Cores. To properly utilize them, you should set `torch.set_float32_matmul_precision('medium' | 'high')` which will trade-off precision for performance. For more details, read https://pytorch.org/docs/stable/generated/torch.set_float32_matmul_precision.html#torch.set_float32_matmul_precision\n",
      "LOCAL_RANK: 0 - CUDA_VISIBLE_DEVICES: [0]\n",
      "c:\\Users\\user\\anaconda3\\envs\\namduhus_GPU\\Lib\\site-packages\\lightning\\pytorch\\core\\optimizer.py:183: `LightningModule.configure_optimizers` returned `None`, this fit will run with no optimizer\n",
      "\n",
      "  | Name    | Type   | Params | Mode \n",
      "-------------------------------------------\n",
      "0 | linear1 | Linear | 512    | train\n",
      "1 | linear2 | Linear | 2.1 K  | train\n",
      "2 | linear3 | Linear | 528    | train\n",
      "3 | linear4 | Linear | 17     | train\n",
      "-------------------------------------------\n",
      "3.1 K     Trainable params\n",
      "0         Non-trainable params\n",
      "3.1 K     Total params\n",
      "0.013     Total estimated model params size (MB)\n",
      "4         Modules in train mode\n",
      "0         Modules in eval mode\n",
      "c:\\Users\\user\\anaconda3\\envs\\namduhus_GPU\\Lib\\site-packages\\lightning\\pytorch\\trainer\\connectors\\data_connector.py:425: The 'train_dataloader' does not have many workers which may be a bottleneck. Consider increasing the value of the `num_workers` argument` to `num_workers=15` in the `DataLoader` to improve performance.\n",
      "c:\\Users\\user\\anaconda3\\envs\\namduhus_GPU\\Lib\\site-packages\\lightning\\pytorch\\loops\\fit_loop.py:310: The number of training batches (40) is smaller than the logging interval Trainer(log_every_n_steps=50). Set a lower value for log_every_n_steps if you want to see logs for the training epoch.\n"
     ]
    },
    {
     "data": {
      "text/plain": [
       "Training: |          | 0/? [00:00<?, ?it/s]"
      ],
      "application/vnd.jupyter.widget-view+json": {
       "version_major": 2,
       "version_minor": 0,
       "model_id": "2407925567844d44a3c743984b2cf36a"
      }
     },
     "metadata": {},
     "output_type": "display_data"
    },
    {
     "name": "stderr",
     "output_type": "stream",
     "text": [
      "`Trainer.fit` stopped: `max_epochs=100` reached.\n"
     ]
    }
   ],
   "execution_count": 55
  },
  {
   "metadata": {
    "ExecuteTime": {
     "end_time": "2025-01-07T18:33:03.289065Z",
     "start_time": "2025-01-07T18:33:03.211362Z"
    }
   },
   "cell_type": "code",
   "source": "trainer.test(model, test_loader)",
   "id": "ff66703bd6b44b8a",
   "outputs": [
    {
     "name": "stderr",
     "output_type": "stream",
     "text": [
      "LOCAL_RANK: 0 - CUDA_VISIBLE_DEVICES: [0]\n",
      "c:\\Users\\user\\anaconda3\\envs\\namduhus_GPU\\Lib\\site-packages\\lightning\\pytorch\\trainer\\connectors\\data_connector.py:425: The 'test_dataloader' does not have many workers which may be a bottleneck. Consider increasing the value of the `num_workers` argument` to `num_workers=15` in the `DataLoader` to improve performance.\n"
     ]
    },
    {
     "data": {
      "text/plain": [
       "Testing: |          | 0/? [00:00<?, ?it/s]"
      ],
      "application/vnd.jupyter.widget-view+json": {
       "version_major": 2,
       "version_minor": 0,
       "model_id": "1787b4364b104a4fb2db7ed99f052e9d"
      }
     },
     "metadata": {},
     "output_type": "display_data"
    },
    {
     "data": {
      "text/plain": [
       "┏━━━━━━━━━━━━━━━━━━━━━━━━━━━┳━━━━━━━━━━━━━━━━━━━━━━━━━━━┓\n",
       "┃\u001B[1m \u001B[0m\u001B[1m       Test metric       \u001B[0m\u001B[1m \u001B[0m┃\u001B[1m \u001B[0m\u001B[1m      DataLoader 0       \u001B[0m\u001B[1m \u001B[0m┃\n",
       "┡━━━━━━━━━━━━━━━━━━━━━━━━━━━╇━━━━━━━━━━━━━━━━━━━━━━━━━━━┩\n",
       "│\u001B[36m \u001B[0m\u001B[36m        test_loss        \u001B[0m\u001B[36m \u001B[0m│\u001B[35m \u001B[0m\u001B[35m    648.8148803710938    \u001B[0m\u001B[35m \u001B[0m│\n",
       "└───────────────────────────┴───────────────────────────┘\n"
      ],
      "text/html": [
       "<pre style=\"white-space:pre;overflow-x:auto;line-height:normal;font-family:Menlo,'DejaVu Sans Mono',consolas,'Courier New',monospace\">┏━━━━━━━━━━━━━━━━━━━━━━━━━━━┳━━━━━━━━━━━━━━━━━━━━━━━━━━━┓\n",
       "┃<span style=\"font-weight: bold\">        Test metric        </span>┃<span style=\"font-weight: bold\">       DataLoader 0        </span>┃\n",
       "┡━━━━━━━━━━━━━━━━━━━━━━━━━━━╇━━━━━━━━━━━━━━━━━━━━━━━━━━━┩\n",
       "│<span style=\"color: #008080; text-decoration-color: #008080\">         test_loss         </span>│<span style=\"color: #800080; text-decoration-color: #800080\">     648.8148803710938     </span>│\n",
       "└───────────────────────────┴───────────────────────────┘\n",
       "</pre>\n"
      ]
     },
     "metadata": {},
     "output_type": "display_data"
    },
    {
     "data": {
      "text/plain": [
       "[{'test_loss': 648.8148803710938}]"
      ]
     },
     "execution_count": 56,
     "metadata": {},
     "output_type": "execute_result"
    }
   ],
   "execution_count": 56
  },
  {
   "metadata": {},
   "cell_type": "markdown",
   "source": "## Step5 학습관련 객체 생성",
   "id": "d8a38e521e21c36b"
  },
  {
   "metadata": {
    "ExecuteTime": {
     "end_time": "2025-01-07T18:10:15.081458Z",
     "start_time": "2025-01-07T18:10:13.383010Z"
    }
   },
   "cell_type": "code",
   "source": [
    "loss = nn.MSELoss()\n",
    "mae = nn.L1Loss()\n",
    "optimizer = torch.optim.RMSprop(model.parameters(), lr=0.001)"
   ],
   "id": "cfa4e8d058c8ff91",
   "outputs": [],
   "execution_count": 45
  },
  {
   "metadata": {},
   "cell_type": "markdown",
   "source": "## Step6 학습 loop",
   "id": "cb12f2adca715d6c"
  },
  {
   "metadata": {},
   "cell_type": "code",
   "outputs": [],
   "execution_count": null,
   "source": [
    "def train(epoch):\n",
    "    model.train()\n",
    "\n",
    "    train_loss = 0\n",
    "    train_mae = 0\n",
    "\n",
    "    for batch_idx, (x, y) in enumerate(train_loader):\n",
    "        # 모델의 순전파 수행\n",
    "        output = model(x)\n",
    "\n",
    "        # loss 함수에 모델의 예측값과 정답 정보를 전달하여 loss 값 계산\n",
    "        batch_mse = loss(output, y)\n",
    "        train_mse = batch_mse.item()\n",
    "\n",
    "        # loss 미치는 영향도 계산\n",
    "        batch_mse.backward()\n",
    "\n",
    "        # 계산된 영향도 업데이트\n",
    "        optimizer.step()\n",
    "\n",
    "        # optim 초기화\n",
    "        optimizer.zero_grad()\n",
    "\n",
    "        # mae 계산\n",
    "        batch_mae = mae(output, y)\n",
    "        train_mae += batch_mae.item()\n",
    "\n",
    "        if batch_idx % 50 == 0:\n",
    "            print(\"Train Epoch: {} [{}/{} ({:.0f}%]\\tMAE: {:.6f}\\tMSE: {:.6f}\".format(\n",
    "                epoch,\n",
    "                (batch_idx + 1) * len(x),\n",
    "                len(train_loader),\n",
    "                100. * (batch_idx+1) / len(train_loader),\n",
    "                batch_mae,\n",
    "                batch_mse\n",
    "            ))"
   ],
   "id": "59b702d01cd2cc51"
  }
 ],
 "metadata": {
  "kernelspec": {
   "display_name": "Python 3",
   "language": "python",
   "name": "python3"
  },
  "language_info": {
   "codemirror_mode": {
    "name": "ipython",
    "version": 2
   },
   "file_extension": ".py",
   "mimetype": "text/x-python",
   "name": "python",
   "nbconvert_exporter": "python",
   "pygments_lexer": "ipython2",
   "version": "2.7.6"
  }
 },
 "nbformat": 4,
 "nbformat_minor": 5
}
