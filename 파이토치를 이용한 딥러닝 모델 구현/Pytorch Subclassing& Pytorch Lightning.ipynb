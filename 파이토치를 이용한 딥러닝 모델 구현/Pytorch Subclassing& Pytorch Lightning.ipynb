{
 "cells": [
  {
   "metadata": {},
   "cell_type": "markdown",
   "source": "# Subclassing 소개",
   "id": "f3a6ceb168e84bb0"
  },
  {
   "metadata": {},
   "cell_type": "markdown",
   "source": "## 기존 nn.Sequential",
   "id": "15d2ac1f02bc9514"
  },
  {
   "cell_type": "code",
   "id": "initial_id",
   "metadata": {
    "collapsed": true,
    "ExecuteTime": {
     "end_time": "2025-01-07T08:33:41.983656Z",
     "start_time": "2025-01-07T08:33:41.118182Z"
    }
   },
   "source": [
    "import torch\n",
    "import torch.nn as nn\n",
    "from torch.utils.data import DataLoader\n",
    "from torchvision.datasets import MNIST\n",
    "from torchvision import datasets, transforms"
   ],
   "outputs": [],
   "execution_count": 7
  },
  {
   "metadata": {
    "ExecuteTime": {
     "end_time": "2025-01-07T08:24:02.297045Z",
     "start_time": "2025-01-07T08:24:02.286779Z"
    }
   },
   "cell_type": "code",
   "source": [
    "model = nn.Sequential()\n",
    "model.append(module=nn.Linear(784, 256, bias=True))\n",
    "model.append(module=nn.ReLU())\n",
    "model.append(module=nn.Linear(256, 10, bias=True))"
   ],
   "id": "1e750da98d2d3549",
   "outputs": [
    {
     "data": {
      "text/plain": [
       "Sequential(\n",
       "  (0): Linear(in_features=784, out_features=256, bias=True)\n",
       "  (1): ReLU()\n",
       "  (2): Linear(in_features=256, out_features=10, bias=True)\n",
       ")"
      ]
     },
     "execution_count": 2,
     "metadata": {},
     "output_type": "execute_result"
    }
   ],
   "execution_count": 2
  },
  {
   "metadata": {},
   "cell_type": "markdown",
   "source": "## Subclassing 활용",
   "id": "597f751aadab3528"
  },
  {
   "metadata": {
    "ExecuteTime": {
     "end_time": "2025-01-07T08:27:19.397040Z",
     "start_time": "2025-01-07T08:27:19.391497Z"
    }
   },
   "cell_type": "code",
   "source": [
    "# Subclassing\n",
    "class CustomModel(nn.Module):\n",
    "    def __init__(self):\n",
    "        super().__init__()\n",
    "        self.linear1 = nn.Linear(784, 10, bias=True)\n",
    "        self.linear2 = nn.Linear(256, 10, bias=True)\n",
    "\n",
    "    def forward(self, x):\n",
    "        x = torch.relu(self.linear1(x))\n",
    "        return self.linear2(x)"
   ],
   "id": "cb4482149b394a5a",
   "outputs": [],
   "execution_count": 4
  },
  {
   "metadata": {},
   "cell_type": "code",
   "outputs": [],
   "execution_count": null,
   "source": [
    "## Subclassing - Sequential 이용\n",
    "class CustomModule(nn.Module):\n",
    "    def __init__(self):\n",
    "        super().__init__()\n",
    "        self.linear_stack = nn.Sequential(\n",
    "            nn.Linear(784, 10, bias=True),\n",
    "            nn.ReLU(),\n",
    "            nn.Linear(256, 10, bias=True),\n",
    "        )\n",
    "\n",
    "\n",
    "    def forwar(self, x):\n",
    "        x = self.linear_stack(x)\n",
    "        return x"
   ],
   "id": "de7c0833e90fd842"
  },
  {
   "metadata": {
    "ExecuteTime": {
     "end_time": "2025-01-07T08:30:06.451908Z",
     "start_time": "2025-01-07T08:29:28.883207Z"
    }
   },
   "cell_type": "code",
   "source": [
    "## Pytorch Lightning\n",
    "!pip install lightning"
   ],
   "id": "e16285994eb3495e",
   "outputs": [
    {
     "name": "stdout",
     "output_type": "stream",
     "text": [
      "Collecting lightning\n",
      "  Downloading lightning-2.5.0.post0-py3-none-any.whl.metadata (40 kB)\n",
      "Requirement already satisfied: PyYAML<8.0,>=5.4 in c:\\users\\user\\anaconda3\\envs\\namduhus_gpu\\lib\\site-packages (from lightning) (6.0.2)\n",
      "Requirement already satisfied: fsspec<2026.0,>=2022.5.0 in c:\\users\\user\\anaconda3\\envs\\namduhus_gpu\\lib\\site-packages (from fsspec[http]<2026.0,>=2022.5.0->lightning) (2024.10.0)\n",
      "Collecting lightning-utilities<2.0,>=0.10.0 (from lightning)\n",
      "  Downloading lightning_utilities-0.11.9-py3-none-any.whl.metadata (5.2 kB)\n",
      "Requirement already satisfied: packaging<25.0,>=20.0 in c:\\users\\user\\anaconda3\\envs\\namduhus_gpu\\lib\\site-packages (from lightning) (24.1)\n",
      "Requirement already satisfied: torch<4.0,>=2.1.0 in c:\\users\\user\\anaconda3\\envs\\namduhus_gpu\\lib\\site-packages (from lightning) (2.5.1)\n",
      "Collecting torchmetrics<3.0,>=0.7.0 (from lightning)\n",
      "  Downloading torchmetrics-1.6.1-py3-none-any.whl.metadata (21 kB)\n",
      "Requirement already satisfied: tqdm<6.0,>=4.57.0 in c:\\users\\user\\anaconda3\\envs\\namduhus_gpu\\lib\\site-packages (from lightning) (4.67.0)\n",
      "Requirement already satisfied: typing-extensions<6.0,>=4.4.0 in c:\\users\\user\\anaconda3\\envs\\namduhus_gpu\\lib\\site-packages (from lightning) (4.12.2)\n",
      "Collecting pytorch-lightning (from lightning)\n",
      "  Downloading pytorch_lightning-2.5.0.post0-py3-none-any.whl.metadata (21 kB)\n",
      "Collecting aiohttp!=4.0.0a0,!=4.0.0a1 (from fsspec[http]<2026.0,>=2022.5.0->lightning)\n",
      "  Downloading aiohttp-3.11.11-cp312-cp312-win_amd64.whl.metadata (8.0 kB)\n",
      "Requirement already satisfied: setuptools in c:\\users\\user\\anaconda3\\envs\\namduhus_gpu\\lib\\site-packages (from lightning-utilities<2.0,>=0.10.0->lightning) (75.1.0)\n",
      "Requirement already satisfied: filelock in c:\\users\\user\\anaconda3\\envs\\namduhus_gpu\\lib\\site-packages (from torch<4.0,>=2.1.0->lightning) (3.13.1)\n",
      "Collecting sympy==1.13.1 (from torch<4.0,>=2.1.0->lightning)\n",
      "  Downloading sympy-1.13.1-py3-none-any.whl.metadata (12 kB)\n",
      "Requirement already satisfied: networkx in c:\\users\\user\\anaconda3\\envs\\namduhus_gpu\\lib\\site-packages (from torch<4.0,>=2.1.0->lightning) (3.3)\n",
      "Requirement already satisfied: jinja2 in c:\\users\\user\\anaconda3\\envs\\namduhus_gpu\\lib\\site-packages (from torch<4.0,>=2.1.0->lightning) (3.1.4)\n",
      "Requirement already satisfied: mpmath<1.4,>=1.1.0 in c:\\users\\user\\anaconda3\\envs\\namduhus_gpu\\lib\\site-packages (from sympy==1.13.1->torch<4.0,>=2.1.0->lightning) (1.3.0)\n",
      "Requirement already satisfied: numpy>1.20.0 in c:\\users\\user\\anaconda3\\envs\\namduhus_gpu\\lib\\site-packages (from torchmetrics<3.0,>=0.7.0->lightning) (1.26.4)\n",
      "Requirement already satisfied: colorama in c:\\users\\user\\anaconda3\\envs\\namduhus_gpu\\lib\\site-packages (from tqdm<6.0,>=4.57.0->lightning) (0.4.6)\n",
      "Collecting aiohappyeyeballs>=2.3.0 (from aiohttp!=4.0.0a0,!=4.0.0a1->fsspec[http]<2026.0,>=2022.5.0->lightning)\n",
      "  Downloading aiohappyeyeballs-2.4.4-py3-none-any.whl.metadata (6.1 kB)\n",
      "Collecting aiosignal>=1.1.2 (from aiohttp!=4.0.0a0,!=4.0.0a1->fsspec[http]<2026.0,>=2022.5.0->lightning)\n",
      "  Downloading aiosignal-1.3.2-py2.py3-none-any.whl.metadata (3.8 kB)\n",
      "Requirement already satisfied: attrs>=17.3.0 in c:\\users\\user\\anaconda3\\envs\\namduhus_gpu\\lib\\site-packages (from aiohttp!=4.0.0a0,!=4.0.0a1->fsspec[http]<2026.0,>=2022.5.0->lightning) (24.2.0)\n",
      "Collecting frozenlist>=1.1.1 (from aiohttp!=4.0.0a0,!=4.0.0a1->fsspec[http]<2026.0,>=2022.5.0->lightning)\n",
      "  Downloading frozenlist-1.5.0-cp312-cp312-win_amd64.whl.metadata (14 kB)\n",
      "Collecting multidict<7.0,>=4.5 (from aiohttp!=4.0.0a0,!=4.0.0a1->fsspec[http]<2026.0,>=2022.5.0->lightning)\n",
      "  Downloading multidict-6.1.0-cp312-cp312-win_amd64.whl.metadata (5.1 kB)\n",
      "Collecting propcache>=0.2.0 (from aiohttp!=4.0.0a0,!=4.0.0a1->fsspec[http]<2026.0,>=2022.5.0->lightning)\n",
      "  Downloading propcache-0.2.1-cp312-cp312-win_amd64.whl.metadata (9.5 kB)\n",
      "Collecting yarl<2.0,>=1.17.0 (from aiohttp!=4.0.0a0,!=4.0.0a1->fsspec[http]<2026.0,>=2022.5.0->lightning)\n",
      "  Downloading yarl-1.18.3-cp312-cp312-win_amd64.whl.metadata (71 kB)\n",
      "Requirement already satisfied: MarkupSafe>=2.0 in c:\\users\\user\\anaconda3\\envs\\namduhus_gpu\\lib\\site-packages (from jinja2->torch<4.0,>=2.1.0->lightning) (2.1.3)\n",
      "Requirement already satisfied: idna>=2.0 in c:\\users\\user\\anaconda3\\envs\\namduhus_gpu\\lib\\site-packages (from yarl<2.0,>=1.17.0->aiohttp!=4.0.0a0,!=4.0.0a1->fsspec[http]<2026.0,>=2022.5.0->lightning) (3.7)\n",
      "Downloading lightning-2.5.0.post0-py3-none-any.whl (815 kB)\n",
      "   ---------------------------------------- 0.0/815.2 kB ? eta -:--:--\n",
      "   ---------------------------------------- 815.2/815.2 kB 8.8 MB/s eta 0:00:00\n",
      "Downloading lightning_utilities-0.11.9-py3-none-any.whl (28 kB)\n",
      "Downloading sympy-1.13.1-py3-none-any.whl (6.2 MB)\n",
      "   ---------------------------------------- 0.0/6.2 MB ? eta -:--:--\n",
      "   ----------- ---------------------------- 1.8/6.2 MB 9.1 MB/s eta 0:00:01\n",
      "   ----------------------- ---------------- 3.7/6.2 MB 9.1 MB/s eta 0:00:01\n",
      "   -------------------------------------- - 6.0/6.2 MB 9.7 MB/s eta 0:00:01\n",
      "   ---------------------------------------- 6.2/6.2 MB 9.5 MB/s eta 0:00:00\n",
      "Downloading torchmetrics-1.6.1-py3-none-any.whl (927 kB)\n",
      "   ---------------------------------------- 0.0/927.3 kB ? eta -:--:--\n",
      "   --------------------------------------- 927.3/927.3 kB 10.7 MB/s eta 0:00:00\n",
      "Downloading pytorch_lightning-2.5.0.post0-py3-none-any.whl (819 kB)\n",
      "   ---------------------------------------- 0.0/819.3 kB ? eta -:--:--\n",
      "   ---------------------------------------- 819.3/819.3 kB 9.0 MB/s eta 0:00:00\n",
      "Downloading aiohttp-3.11.11-cp312-cp312-win_amd64.whl (437 kB)\n",
      "Downloading aiohappyeyeballs-2.4.4-py3-none-any.whl (14 kB)\n",
      "Downloading aiosignal-1.3.2-py2.py3-none-any.whl (7.6 kB)\n",
      "Downloading frozenlist-1.5.0-cp312-cp312-win_amd64.whl (51 kB)\n",
      "Downloading multidict-6.1.0-cp312-cp312-win_amd64.whl (28 kB)\n",
      "Downloading propcache-0.2.1-cp312-cp312-win_amd64.whl (44 kB)\n",
      "Downloading yarl-1.18.3-cp312-cp312-win_amd64.whl (90 kB)\n",
      "Installing collected packages: sympy, propcache, multidict, lightning-utilities, frozenlist, aiohappyeyeballs, yarl, aiosignal, torchmetrics, aiohttp, pytorch-lightning, lightning\n",
      "  Attempting uninstall: sympy\n",
      "    Found existing installation: sympy 1.13.2\n",
      "    Uninstalling sympy-1.13.2:\n",
      "      Successfully uninstalled sympy-1.13.2\n",
      "Successfully installed aiohappyeyeballs-2.4.4 aiohttp-3.11.11 aiosignal-1.3.2 frozenlist-1.5.0 lightning-2.5.0.post0 lightning-utilities-0.11.9 multidict-6.1.0 propcache-0.2.1 pytorch-lightning-2.5.0.post0 sympy-1.13.1 torchmetrics-1.6.1 yarl-1.18.3\n"
     ]
    }
   ],
   "execution_count": 5
  },
  {
   "metadata": {
    "ExecuteTime": {
     "end_time": "2025-01-07T08:30:25.569319Z",
     "start_time": "2025-01-07T08:30:20.613484Z"
    }
   },
   "cell_type": "code",
   "source": "import lightning.pytorch as pl",
   "id": "f315dcb8fe90b7e0",
   "outputs": [],
   "execution_count": 6
  },
  {
   "metadata": {},
   "cell_type": "code",
   "outputs": [],
   "execution_count": null,
   "source": [
    "## LigtningModule 이용\n",
    "class LMnist(pl.LightningModule):\n",
    "    def __init__(self):\n",
    "        super().__init__()\n",
    "\n",
    "    def forwar(self, x):\n",
    "        pass\n",
    "\n",
    "    def cross_entropy_loss(self, logits, labels):\n",
    "        pass\n",
    "\n",
    "    def training_step(self, train_batch, batch_idx):\n",
    "        pass\n",
    "\n",
    "    def validation_step(self, val_batch, batch_idx):\n",
    "        pass\n",
    "    def test_step(self, test_batch, batch_idx):\n",
    "        pass\n",
    "    def configure_optimizers(self):\n",
    "        pass"
   ],
   "id": "5a4ce5a64ccb3b8f"
  }
 ],
 "metadata": {
  "kernelspec": {
   "display_name": "Python 3",
   "language": "python",
   "name": "python3"
  },
  "language_info": {
   "codemirror_mode": {
    "name": "ipython",
    "version": 2
   },
   "file_extension": ".py",
   "mimetype": "text/x-python",
   "name": "python",
   "nbconvert_exporter": "python",
   "pygments_lexer": "ipython2",
   "version": "2.7.6"
  }
 },
 "nbformat": 4,
 "nbformat_minor": 5
}
