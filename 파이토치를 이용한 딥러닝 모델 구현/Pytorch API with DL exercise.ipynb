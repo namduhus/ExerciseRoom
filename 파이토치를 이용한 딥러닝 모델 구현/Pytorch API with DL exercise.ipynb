{
 "cells": [
  {
   "metadata": {},
   "cell_type": "markdown",
   "source": "# 파이토치 API를 활용한 딥러닝 모델 구현",
   "id": "e3c1a14a96ae3d17"
  },
  {
   "cell_type": "code",
   "id": "initial_id",
   "metadata": {
    "collapsed": true,
    "ExecuteTime": {
     "end_time": "2025-01-07T07:41:13.625331Z",
     "start_time": "2025-01-07T07:41:01.493243Z"
    }
   },
   "source": [
    "import torch\n",
    "from tensorflow.keras.datasets import mnist\n",
    "import numpy as np\n",
    "import matplotlib.pyplot as plt"
   ],
   "outputs": [],
   "execution_count": 3
  },
  {
   "metadata": {},
   "cell_type": "markdown",
   "source": "## 훈련데이터 준비",
   "id": "6a5ec6fee2fb0c72"
  },
  {
   "metadata": {
    "ExecuteTime": {
     "end_time": "2025-01-07T07:41:28.447830Z",
     "start_time": "2025-01-07T07:41:26.607689Z"
    }
   },
   "cell_type": "code",
   "source": "(train_images, train_labels), (test_images, test_labels) = mnist.load_data()",
   "id": "83e8ac729978347e",
   "outputs": [
    {
     "name": "stdout",
     "output_type": "stream",
     "text": [
      "Downloading data from https://storage.googleapis.com/tensorflow/tf-keras-datasets/mnist.npz\n",
      "\u001B[1m11490434/11490434\u001B[0m \u001B[32m━━━━━━━━━━━━━━━━━━━━\u001B[0m\u001B[37m\u001B[0m \u001B[1m1s\u001B[0m 0us/step\n"
     ]
    }
   ],
   "execution_count": 4
  },
  {
   "metadata": {},
   "cell_type": "markdown",
   "source": "## 데이터 전처리",
   "id": "36316a9fdb801caa"
  },
  {
   "metadata": {
    "ExecuteTime": {
     "end_time": "2025-01-07T07:43:30.525700Z",
     "start_time": "2025-01-07T07:43:30.521755Z"
    }
   },
   "cell_type": "code",
   "source": [
    "train_images = train_images.reshape((60000, 28 * 28))\n",
    "test_images = test_images.reshape((10000, 28 * 28))"
   ],
   "id": "72dc741ef3a4827c",
   "outputs": [],
   "execution_count": 6
  },
  {
   "metadata": {},
   "cell_type": "markdown",
   "source": [
    "## pipeline 생성\n",
    "<p>학습 데이터를 torch.Tensor로 변환</p>\n",
    "<p>변환 된 torch.Tensor 객체를 Dataset 객체에 연결</p>\n",
    "<p>Batch 구성을 위한 DataLoader 객체 생성</p>"
   ],
   "id": "9a38b906874fde61"
  },
  {
   "metadata": {
    "ExecuteTime": {
     "end_time": "2025-01-07T07:46:07.251867Z",
     "start_time": "2025-01-07T07:46:07.158061Z"
    }
   },
   "cell_type": "code",
   "source": [
    "train_x = torch.Tensor(train_images)\n",
    "train_y = torch.LongTensor(train_labels)\n",
    "\n",
    "test_x = torch.Tensor(test_images)\n",
    "test_y = torch.LongTensor(test_labels)"
   ],
   "id": "c67be50bf80380b0",
   "outputs": [],
   "execution_count": 8
  },
  {
   "metadata": {
    "ExecuteTime": {
     "end_time": "2025-01-07T07:51:43.492360Z",
     "start_time": "2025-01-07T07:51:43.487721Z"
    }
   },
   "cell_type": "code",
   "source": [
    "train_dataset = torch.utils.data.TensorDataset(train_x, train_y)\n",
    "test_dataset = torch.utils.data.TensorDataset(test_x, test_y)"
   ],
   "id": "35be15534e216e22",
   "outputs": [],
   "execution_count": 15
  },
  {
   "metadata": {
    "ExecuteTime": {
     "end_time": "2025-01-07T07:53:31.291087Z",
     "start_time": "2025-01-07T07:53:31.286162Z"
    }
   },
   "cell_type": "code",
   "source": [
    "train_loader=torch.utils.data.DataLoader(train_dataset, batch_size=64, shuffle=True)\n",
    "test_loader = torch.utils.data.DataLoader(test_dataset, batch_size=64, shuffle=False)"
   ],
   "id": "9947330fb7f91d93",
   "outputs": [],
   "execution_count": 16
  },
  {
   "metadata": {},
   "cell_type": "markdown",
   "source": "## DNN 모델 정의",
   "id": "c5967ce858b82d23"
  },
  {
   "metadata": {
    "ExecuteTime": {
     "end_time": "2025-01-07T07:55:40.737349Z",
     "start_time": "2025-01-07T07:55:40.733032Z"
    }
   },
   "cell_type": "code",
   "source": "model = torch.nn.Sequential()",
   "id": "f85893cae9f67c77",
   "outputs": [],
   "execution_count": 26
  },
  {
   "metadata": {
    "ExecuteTime": {
     "end_time": "2025-01-07T07:55:42.456747Z",
     "start_time": "2025-01-07T07:55:42.449224Z"
    }
   },
   "cell_type": "code",
   "source": [
    "model.append(module=torch.nn.Linear(784, 256, bias=True))\n",
    "model.append(module=torch.nn.ReLU())\n",
    "model.append(module=torch.nn.Linear(256, 10, bias=True))"
   ],
   "id": "806d15945bae4e30",
   "outputs": [
    {
     "data": {
      "text/plain": [
       "Sequential(\n",
       "  (0): Linear(in_features=784, out_features=256, bias=True)\n",
       "  (1): ReLU()\n",
       "  (2): Linear(in_features=256, out_features=10, bias=True)\n",
       ")"
      ]
     },
     "execution_count": 27,
     "metadata": {},
     "output_type": "execute_result"
    }
   ],
   "execution_count": 27
  },
  {
   "metadata": {
    "ExecuteTime": {
     "end_time": "2025-01-07T07:57:43.299513Z",
     "start_time": "2025-01-07T07:57:43.291718Z"
    }
   },
   "cell_type": "code",
   "source": "from torchsummary import summary",
   "id": "77fb8911e6ecbfaf",
   "outputs": [],
   "execution_count": 28
  },
  {
   "metadata": {},
   "cell_type": "markdown",
   "source": "## 학습 관련 객체 생성",
   "id": "2b8ef7a57f171c8c"
  },
  {
   "metadata": {
    "ExecuteTime": {
     "end_time": "2025-01-07T08:00:41.847162Z",
     "start_time": "2025-01-07T08:00:41.842003Z"
    }
   },
   "cell_type": "code",
   "source": "loss = torch.nn.CrossEntropyLoss()",
   "id": "1fedcf06936a55ec",
   "outputs": [],
   "execution_count": 31
  },
  {
   "metadata": {
    "ExecuteTime": {
     "end_time": "2025-01-07T08:03:59.383461Z",
     "start_time": "2025-01-07T08:03:57.829867Z"
    }
   },
   "cell_type": "code",
   "source": "optim = torch.optim.RMSprop(params=model.parameters(), lr=0.001)",
   "id": "f154fe39e2daaea4",
   "outputs": [],
   "execution_count": 33
  },
  {
   "metadata": {},
   "cell_type": "markdown",
   "source": "## 학습 및 검증",
   "id": "a872e4e00564d81c"
  },
  {
   "metadata": {},
   "cell_type": "code",
   "outputs": [],
   "execution_count": null,
   "source": [
    "def train(epoch):\n",
    "    #모델 객체를 학습에 적합한 상태로 변경\n",
    "    model.train()\n",
    "\n",
    "    # loss, acc 변수지정\n",
    "    loss = 0\n",
    "    acc = 0\n",
    "\n",
    "    for batch_idx,(data, target) in enumerate(train_loader):\n",
    "        # 모델의 순전파 수행\n",
    "        output = model(data)\n",
    "\n",
    "        # loss 함수에 모델의 예측값 과 정답 정보를 전달하여 loss 값 계산\n",
    "        batch_loss = loss(output, target)\n",
    "\n",
    "        #optim 초기화\n",
    "        optim.zero_grad()\n",
    "\n",
    "        # model을 구성하는 param(w, b)이 loss에 미치는 영향도 계산\n",
    "        batch_loss.backward()\n",
    "\n",
    "        # 계산된 영향도(gradient)값을 이용하여 param(w,b) 업데이트\n",
    "        optim.step()"
   ],
   "id": "9e3fc28dd87cc670"
  }
 ],
 "metadata": {
  "kernelspec": {
   "display_name": "Python 3",
   "language": "python",
   "name": "python3"
  },
  "language_info": {
   "codemirror_mode": {
    "name": "ipython",
    "version": 2
   },
   "file_extension": ".py",
   "mimetype": "text/x-python",
   "name": "python",
   "nbconvert_exporter": "python",
   "pygments_lexer": "ipython2",
   "version": "2.7.6"
  }
 },
 "nbformat": 4,
 "nbformat_minor": 5
}
